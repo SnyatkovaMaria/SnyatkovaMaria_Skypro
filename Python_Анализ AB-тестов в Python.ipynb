{
 "cells": [
  {
   "cell_type": "markdown",
   "metadata": {
    "id": "ztPv6Kb-ILDp"
   },
   "source": [
    "# Домашнее задание 4.1\n",
    "\n",
    "# 🥨👨🏻‍🍳🥐🥖\n",
    "\n",
    "Тест с картинками оказался в итоге успешным, и теперь мы хотим усилить визуальный контент. Есть идея, что если мы сделаем не одну картинку, а еще и добавим видео производства наших изделий, то пользователь будет принимать решение о покупке охотнее и быстрее, и конверсия в заказ вырастет. \n",
    "\n",
    "__Продакт вернул нам такой дизайн эксперимента:__\n",
    "\n",
    "*1. `Бизнес-проблема:`* мы считаем, что конверсии из визита в покупку в нашем магазине недостаточно высоки. Мы посмотрели на страницы конкурентов и поняли, что у нас есть возможность увеличить объем продаж, если мы еще немного изменим дизайн страницы с каталогом продукции. \n",
    "\n",
    "*2. `Гипотеза:`* предполагается, что добавление видео с процессом приготовления вкусностей мотивирует к их покупке и позволяет добиться двух эффектов:\n",
    "   * повышение конверсии из визита в оплату (больше людей захотят купить нашу продукцию)\n",
    "   * как минимум, не снижение среднего чека покупки, а в идеале — увеличение\n",
    "    \n",
    "*3. `Ожидаемые действия пользователей:`* мы ожидаем, что, увидев видео с процессом приготовления вкусностей вместе с описанием продукции, больше людей захотят сделать покупку, а возможно — в среднем будут покупать больше продукции в одном заказе.\n",
    "\n",
    "*4. `Эксперимент будет считаться успешным, если:`*\n",
    "   * конверсия из визита в покупку с окном в 7 дней повысится\n",
    "   * средний чек покупки не снизится\n",
    "\n",
    "\n",
    "## Что нужно сделать?\n",
    "\n",
    "Проанализировать данные нового теста и дать свои комментарии о его успешности. Можно ли выкатывать изменение на всех пользователей?\n",
    "\n",
    "1. Выбрать окно конверсии\n",
    "2. Исследовать распределение пользователей по группам по основным сегментам\n",
    "3. Оценить статистическую значимость в изменении конверсии с помощью критерия хи-квадрат\n",
    "4. Вычислить мощность теста\n",
    "5. Использовать бутстрап для оценки влияния теста на средний чек\n",
    "6. Сделать вывод по результатам проведенного теста "
   ]
  },
  {
   "cell_type": "markdown",
   "metadata": {
    "id": "hppSG_9JbL0s"
   },
   "source": [
    "## Задание 1. Выбери окно конверсии, используя исторические данные \n",
    "\n",
    "**1. Прочитай файл investigate_window.csv.**\n",
    "   - Запиши даннные в переменную `historical_data`\n",
    "    \n",
    "   - Отправь безымянную колонку с нумерацией в индекс с помощью аргумента функции `read_csv()`.\n",
    "   \n",
    "   - Проверь, какой тип данных в каждой колонке, и переведи столбцы с датами в формат даты. "
   ]
  },
  {
   "cell_type": "code",
   "execution_count": 1,
   "metadata": {
    "id": "bZRgs094bL0v"
   },
   "outputs": [],
   "source": [
    "import pandas as pd"
   ]
  },
  {
   "cell_type": "code",
   "execution_count": 13,
   "metadata": {
    "id": "Sk2xONPmbL0x"
   },
   "outputs": [],
   "source": [
    "historical_data = pd.read_csv('investigate_window.csv', parse_dates = [2,3])"
   ]
  },
  {
   "cell_type": "code",
   "execution_count": 14,
   "metadata": {
    "id": "dS3UJGDhbL0x",
    "outputId": "4d8207fa-32d3-44f3-de6f-072b393742b4"
   },
   "outputs": [
    {
     "data": {
      "text/html": [
       "<div>\n",
       "<style scoped>\n",
       "    .dataframe tbody tr th:only-of-type {\n",
       "        vertical-align: middle;\n",
       "    }\n",
       "\n",
       "    .dataframe tbody tr th {\n",
       "        vertical-align: top;\n",
       "    }\n",
       "\n",
       "    .dataframe thead th {\n",
       "        text-align: right;\n",
       "    }\n",
       "</style>\n",
       "<table border=\"1\" class=\"dataframe\">\n",
       "  <thead>\n",
       "    <tr style=\"text-align: right;\">\n",
       "      <th></th>\n",
       "      <th>Unnamed: 0</th>\n",
       "      <th>user_id</th>\n",
       "      <th>main_page_viewed_at</th>\n",
       "      <th>order_completed_at</th>\n",
       "      <th>time_to_order</th>\n",
       "    </tr>\n",
       "  </thead>\n",
       "  <tbody>\n",
       "    <tr>\n",
       "      <th>0</th>\n",
       "      <td>0</td>\n",
       "      <td>959238</td>\n",
       "      <td>2020-11-20 23:55:02.759000+00:00</td>\n",
       "      <td>2020-11-30 02:22:32.759000+00:00</td>\n",
       "      <td>9.102431</td>\n",
       "    </tr>\n",
       "    <tr>\n",
       "      <th>1</th>\n",
       "      <td>1</td>\n",
       "      <td>337366</td>\n",
       "      <td>2020-12-05 23:41:42.244000+00:00</td>\n",
       "      <td>2020-12-12 22:25:52.244000+00:00</td>\n",
       "      <td>6.947338</td>\n",
       "    </tr>\n",
       "    <tr>\n",
       "      <th>2</th>\n",
       "      <td>2</td>\n",
       "      <td>259956</td>\n",
       "      <td>2020-11-20 23:33:53.269000+00:00</td>\n",
       "      <td>2020-11-25 13:08:03.269000+00:00</td>\n",
       "      <td>4.565394</td>\n",
       "    </tr>\n",
       "    <tr>\n",
       "      <th>3</th>\n",
       "      <td>3</td>\n",
       "      <td>534280</td>\n",
       "      <td>2020-11-28 23:44:56.556000+00:00</td>\n",
       "      <td>2020-12-05 10:14:06.556000+00:00</td>\n",
       "      <td>6.436921</td>\n",
       "    </tr>\n",
       "    <tr>\n",
       "      <th>4</th>\n",
       "      <td>4</td>\n",
       "      <td>795121</td>\n",
       "      <td>2020-11-18 23:59:56.236000+00:00</td>\n",
       "      <td>2020-11-27 02:38:16.236000+00:00</td>\n",
       "      <td>8.109954</td>\n",
       "    </tr>\n",
       "  </tbody>\n",
       "</table>\n",
       "</div>"
      ],
      "text/plain": [
       "   Unnamed: 0  user_id              main_page_viewed_at  \\\n",
       "0           0   959238 2020-11-20 23:55:02.759000+00:00   \n",
       "1           1   337366 2020-12-05 23:41:42.244000+00:00   \n",
       "2           2   259956 2020-11-20 23:33:53.269000+00:00   \n",
       "3           3   534280 2020-11-28 23:44:56.556000+00:00   \n",
       "4           4   795121 2020-11-18 23:59:56.236000+00:00   \n",
       "\n",
       "                order_completed_at  time_to_order  \n",
       "0 2020-11-30 02:22:32.759000+00:00       9.102431  \n",
       "1 2020-12-12 22:25:52.244000+00:00       6.947338  \n",
       "2 2020-11-25 13:08:03.269000+00:00       4.565394  \n",
       "3 2020-12-05 10:14:06.556000+00:00       6.436921  \n",
       "4 2020-11-27 02:38:16.236000+00:00       8.109954  "
      ]
     },
     "execution_count": 14,
     "metadata": {},
     "output_type": "execute_result"
    }
   ],
   "source": [
    "historical_data.head()"
   ]
  },
  {
   "cell_type": "code",
   "execution_count": 15,
   "metadata": {
    "id": "Xef2_8M4bL0z",
    "outputId": "e7204528-c53d-4ddc-8149-27040c3f23ed"
   },
   "outputs": [
    {
     "data": {
      "text/plain": [
       "Unnamed: 0                           int64\n",
       "user_id                              int64\n",
       "main_page_viewed_at    datetime64[ns, UTC]\n",
       "order_completed_at     datetime64[ns, UTC]\n",
       "time_to_order                      float64\n",
       "dtype: object"
      ]
     },
     "execution_count": 15,
     "metadata": {},
     "output_type": "execute_result"
    }
   ],
   "source": [
    "historical_data.dtypes"
   ]
  },
  {
   "cell_type": "markdown",
   "metadata": {
    "id": "olR8gTUvbL00"
   },
   "source": [
    "**2. Вычисли 95, 90 и 85 перцентили для наших данных с помощью колонки time_to_order.**\n",
    "   - Импортируй библиотеку `NumPy` и используй функцию перцентиля из нее.\n",
    "   - Какой перцентиль соответствует недельному окну конверсии? \n",
    "   - Запиши это значение в отдельную переменную `perc_X`, где Х — это выбранный тобой процент, а значение переменной – значение перцентиля, т. е. количество дней, которое избирается в качестве окна конверсии. \n",
    "   - Округли значение до 1 знака после запятой."
   ]
  },
  {
   "cell_type": "code",
   "execution_count": 16,
   "metadata": {
    "id": "5uiFILNtbL01"
   },
   "outputs": [],
   "source": [
    "import numpy as np"
   ]
  },
  {
   "cell_type": "code",
   "execution_count": 33,
   "metadata": {},
   "outputs": [
    {
     "data": {
      "text/plain": [
       "7.1"
      ]
     },
     "execution_count": 33,
     "metadata": {},
     "output_type": "execute_result"
    }
   ],
   "source": [
    "perc_95 = round(np.percentile(historical_data['time_to_order'], 95), 1) \n",
    "# np.percentile(historical_data['time_to_order'], 90) \n",
    "# np.percentile(historical_data['time_to_order'], 85) \n",
    "perc_95 "
   ]
  },
  {
   "cell_type": "markdown",
   "metadata": {
    "id": "SRawyRWsbL02"
   },
   "source": [
    "**3. Построй гистограмму распределения времени между первым заходом на сайт и покупкой.** \n",
    "   - Передай функции графика в аргумент данные о времени конверсии\n",
    "   - Назови график и оси\n",
    "   - Вертикальной пунктирной линией отметь значение выбранного тобой перцентиля. \n",
    "   - Выведи значение перцентиля в легенду. \n",
    "*Можешь использовать `seaborn` или `matplotlib`, как тебе удобнее.*"
   ]
  },
  {
   "cell_type": "code",
   "execution_count": 34,
   "metadata": {
    "id": "z0Ie-hfKbL02"
   },
   "outputs": [],
   "source": [
    "import seaborn as sns \n",
    "import matplotlib.pyplot as plt"
   ]
  },
  {
   "cell_type": "code",
   "execution_count": 38,
   "metadata": {
    "id": "UMNd1kw3bL03"
   },
   "outputs": [
    {
     "name": "stderr",
     "output_type": "stream",
     "text": [
      "C:\\Users\\snyat\\anaconda3\\lib\\site-packages\\seaborn\\distributions.py:2619: FutureWarning: `distplot` is a deprecated function and will be removed in a future version. Please adapt your code to use either `displot` (a figure-level function with similar flexibility) or `histplot` (an axes-level function for histograms).\n",
      "  warnings.warn(msg, FutureWarning)\n"
     ]
    },
    {
     "data": {
      "image/png": "[encoded data removed]",
      "text/plain": [
       "<Figure size 1152x648 with 1 Axes>"
      ]
     },
     "metadata": {
      "needs_background": "light"
     },
     "output_type": "display_data"
    }
   ],
   "source": [
    "plt.figure(figsize=(16,9))\n",
    "sns.distplot(historical_data['time_to_order'])\n",
    "plt.vlines(perc_95, ymin = 0, ymax = 0.7, linestyles = 'dashed', label = f'95-ый перцентиль – {perc_95} дней')\n",
    "plt.title('Распределение времени между первым заходом на сайт и покупкой')\n",
    "plt.xlabel('Количество дней')\n",
    "plt.ylabel('Количество пользователей')\n",
    "plt.legend()\n",
    "plt.show()"
   ]
  },
  {
   "cell_type": "markdown",
   "metadata": {
    "id": "3nsIxdYObL03"
   },
   "source": [
    "## Задание 2. Исследуй распределение пользователей по группам по основным сегментам \n",
    "\n",
    "**1. Прочитай файл bakery_ab_test.csv.**\n",
    "   - Проверь, импортированы ли нужные тебе библиотеки.\n",
    "   - Запиши данные в переменную `data`. \n",
    "   - Назначь индекс аналогично первому заданию."
   ]
  },
  {
   "cell_type": "code",
   "execution_count": 51,
   "metadata": {
    "id": "-l6Y90j6bL03"
   },
   "outputs": [
    {
     "data": {
      "text/html": [
       "<div>\n",
       "<style scoped>\n",
       "    .dataframe tbody tr th:only-of-type {\n",
       "        vertical-align: middle;\n",
       "    }\n",
       "\n",
       "    .dataframe tbody tr th {\n",
       "        vertical-align: top;\n",
       "    }\n",
       "\n",
       "    .dataframe thead th {\n",
       "        text-align: right;\n",
       "    }\n",
       "</style>\n",
       "<table border=\"1\" class=\"dataframe\">\n",
       "  <thead>\n",
       "    <tr style=\"text-align: right;\">\n",
       "      <th></th>\n",
       "      <th>Unnamed: 0</th>\n",
       "      <th>user_id</th>\n",
       "      <th>test_group</th>\n",
       "      <th>purchase_amount</th>\n",
       "      <th>geo_group</th>\n",
       "      <th>acquisition_channel</th>\n",
       "      <th>within_window</th>\n",
       "      <th>platform</th>\n",
       "    </tr>\n",
       "  </thead>\n",
       "  <tbody>\n",
       "    <tr>\n",
       "      <th>0</th>\n",
       "      <td>1</td>\n",
       "      <td>3738</td>\n",
       "      <td>test</td>\n",
       "      <td>306.639511</td>\n",
       "      <td>regions</td>\n",
       "      <td>target_direct</td>\n",
       "      <td>1</td>\n",
       "      <td>pc</td>\n",
       "    </tr>\n",
       "    <tr>\n",
       "      <th>1</th>\n",
       "      <td>2</td>\n",
       "      <td>3755</td>\n",
       "      <td>control</td>\n",
       "      <td>NaN</td>\n",
       "      <td>regions</td>\n",
       "      <td>target_direct</td>\n",
       "      <td>0</td>\n",
       "      <td>pc</td>\n",
       "    </tr>\n",
       "    <tr>\n",
       "      <th>2</th>\n",
       "      <td>3</td>\n",
       "      <td>3772</td>\n",
       "      <td>test</td>\n",
       "      <td>NaN</td>\n",
       "      <td>regions</td>\n",
       "      <td>context_brand</td>\n",
       "      <td>0</td>\n",
       "      <td>mobile</td>\n",
       "    </tr>\n",
       "    <tr>\n",
       "      <th>3</th>\n",
       "      <td>4</td>\n",
       "      <td>3789</td>\n",
       "      <td>control</td>\n",
       "      <td>NaN</td>\n",
       "      <td>spb</td>\n",
       "      <td>target_direct</td>\n",
       "      <td>0</td>\n",
       "      <td>pc</td>\n",
       "    </tr>\n",
       "    <tr>\n",
       "      <th>4</th>\n",
       "      <td>5</td>\n",
       "      <td>3806</td>\n",
       "      <td>test</td>\n",
       "      <td>NaN</td>\n",
       "      <td>regions</td>\n",
       "      <td>social_media</td>\n",
       "      <td>0</td>\n",
       "      <td>pc</td>\n",
       "    </tr>\n",
       "    <tr>\n",
       "      <th>...</th>\n",
       "      <td>...</td>\n",
       "      <td>...</td>\n",
       "      <td>...</td>\n",
       "      <td>...</td>\n",
       "      <td>...</td>\n",
       "      <td>...</td>\n",
       "      <td>...</td>\n",
       "      <td>...</td>\n",
       "    </tr>\n",
       "    <tr>\n",
       "      <th>150478</th>\n",
       "      <td>152995</td>\n",
       "      <td>2604636</td>\n",
       "      <td>test</td>\n",
       "      <td>NaN</td>\n",
       "      <td>regions</td>\n",
       "      <td>target_direct</td>\n",
       "      <td>0</td>\n",
       "      <td>pc</td>\n",
       "    </tr>\n",
       "    <tr>\n",
       "      <th>150479</th>\n",
       "      <td>152996</td>\n",
       "      <td>2604653</td>\n",
       "      <td>control</td>\n",
       "      <td>5236.818309</td>\n",
       "      <td>regions</td>\n",
       "      <td>organic</td>\n",
       "      <td>1</td>\n",
       "      <td>mobile</td>\n",
       "    </tr>\n",
       "    <tr>\n",
       "      <th>150480</th>\n",
       "      <td>152997</td>\n",
       "      <td>2604670</td>\n",
       "      <td>control</td>\n",
       "      <td>NaN</td>\n",
       "      <td>regions</td>\n",
       "      <td>target_direct</td>\n",
       "      <td>0</td>\n",
       "      <td>pc</td>\n",
       "    </tr>\n",
       "    <tr>\n",
       "      <th>150481</th>\n",
       "      <td>152998</td>\n",
       "      <td>2604687</td>\n",
       "      <td>control</td>\n",
       "      <td>101.783032</td>\n",
       "      <td>regions</td>\n",
       "      <td>target_direct</td>\n",
       "      <td>1</td>\n",
       "      <td>pc</td>\n",
       "    </tr>\n",
       "    <tr>\n",
       "      <th>150482</th>\n",
       "      <td>152999</td>\n",
       "      <td>2604704</td>\n",
       "      <td>test</td>\n",
       "      <td>NaN</td>\n",
       "      <td>msk</td>\n",
       "      <td>social_media</td>\n",
       "      <td>0</td>\n",
       "      <td>pc</td>\n",
       "    </tr>\n",
       "  </tbody>\n",
       "</table>\n",
       "<p>150483 rows × 8 columns</p>\n",
       "</div>"
      ],
      "text/plain": [
       "        Unnamed: 0  user_id test_group  purchase_amount geo_group  \\\n",
       "0                1     3738       test       306.639511   regions   \n",
       "1                2     3755    control              NaN   regions   \n",
       "2                3     3772       test              NaN   regions   \n",
       "3                4     3789    control              NaN       spb   \n",
       "4                5     3806       test              NaN   regions   \n",
       "...            ...      ...        ...              ...       ...   \n",
       "150478      152995  2604636       test              NaN   regions   \n",
       "150479      152996  2604653    control      5236.818309   regions   \n",
       "150480      152997  2604670    control              NaN   regions   \n",
       "150481      152998  2604687    control       101.783032   regions   \n",
       "150482      152999  2604704       test              NaN       msk   \n",
       "\n",
       "       acquisition_channel  within_window platform  \n",
       "0            target_direct              1       pc  \n",
       "1            target_direct              0       pc  \n",
       "2            context_brand              0   mobile  \n",
       "3            target_direct              0       pc  \n",
       "4             social_media              0       pc  \n",
       "...                    ...            ...      ...  \n",
       "150478       target_direct              0       pc  \n",
       "150479             organic              1   mobile  \n",
       "150480       target_direct              0       pc  \n",
       "150481       target_direct              1       pc  \n",
       "150482        social_media              0       pc  \n",
       "\n",
       "[150483 rows x 8 columns]"
      ]
     },
     "execution_count": 51,
     "metadata": {},
     "output_type": "execute_result"
    }
   ],
   "source": [
    "data = pd.read_csv('bakery_ab_test.csv')\n",
    "data\n",
    "# data.dtypes"
   ]
  },
  {
   "cell_type": "markdown",
   "metadata": {
    "id": "BySl6id7bL04"
   },
   "source": [
    "**2. Напиши функцию plot_segment_distribution, чтобы проверить распределение пользователей по сегментам внутри каждой группы.**\n",
    "   - Аргументами функции должны быть данные теста, колонки с сегментами (маркетинг, гео и платформа), тест-фактор.\n",
    "   - Для каждого сегмента в функции агрегируй данные, посчитав по для каждой группы и сегмента количество пользователей.\n",
    "   - Сбрость индекс.\n",
    "   - Добавь в функцию построение столбиковой диаграммы (bar chart)."
   ]
  },
  {
   "cell_type": "code",
   "execution_count": 66,
   "metadata": {},
   "outputs": [],
   "source": [
    "def plot_segments_distribution(df, segment_columns, test_factor): #массив сегментов, для кажд.из кот.будут построены графики\n",
    "    for segment in segment_columns:\n",
    "        aggregated_data = df.groupby(by = [test_factor, segment])['user_id'].count().reset_index() #считаем агрегаци. с неск.колонками\n",
    "        sns.catplot(x = segment, \n",
    "                    y = 'user_id', #кол-во польз.\n",
    "                    hue = test_factor, # сообщаем, что хотим, чтобы разные группы имели разный цвет #тестовая или контрольная группа\n",
    "                    data = aggregated_data, \n",
    "                    kind = \"bar\", #барплот\n",
    "                    height = 4, # задаем размер графика \n",
    "                    aspect = 1.5) # задаем ширину столбца"
   ]
  },
  {
   "cell_type": "markdown",
   "metadata": {
    "id": "_miaIvPmbL05"
   },
   "source": [
    "**3. Вызови функцию и посмотри на графики. Какой вывод о качестве сплитования ты можешь сделать?**\n",
    "    — Передай списком столбцы, в которых обозначены сегменты пользователей, и отдельно столбец с тест-фактором."
   ]
  },
  {
   "cell_type": "code",
   "execution_count": 67,
   "metadata": {
    "id": "0e90OJ0YbL05",
    "scrolled": true
   },
   "outputs": [
    {
     "data": {
      "image/png": "[encoded data removed]",
      "text/plain": [
       "<Figure size 502.5x288 with 1 Axes>"
      ]
     },
     "metadata": {
      "needs_background": "light"
     },
     "output_type": "display_data"
    },
    {
     "data": {
      "image/png": "[encoded data removed]",
      "text/plain": [
       "<Figure size 502.5x288 with 1 Axes>"
      ]
     },
     "metadata": {
      "needs_background": "light"
     },
     "output_type": "display_data"
    },
    {
     "data": {
      "image/png": "[encoded data removed]",
      "text/plain": [
       "<Figure size 502.5x288 with 1 Axes>"
      ]
     },
     "metadata": {
      "needs_background": "light"
     },
     "output_type": "display_data"
    }
   ],
   "source": [
    "plot_segments_distribution(data, #датафрейм\n",
    "                           [\"geo_group\", \"acquisition_channel\", \"platform\"], #сегменты\n",
    "                           \"test_group\") #тест-фактор"
   ]
  },
  {
   "cell_type": "markdown",
   "metadata": {
    "id": "8jAA6GdHbL05"
   },
   "source": [
    "## Задание 3. Используй критерий Хи-квадрат для конверсии\n"
   ]
  },
  {
   "cell_type": "markdown",
   "metadata": {
    "id": "ixJWxL_JbL06"
   },
   "source": [
    "В прошлом задании ты, скорее всего, столкнулся с неравномерным распределением пользователей. Раньше мы просто перезапускали тест, чтобы собрать данные, но сейчас тест уже завершен, так что нам нужно анализировать те данные, которые есть. Мы не можем исправить данные, но можем проанализировать общие результаты и сравнить их с результатами для пользователей, зашедших с разных платформ, чтобы уменьшить риск принятия ошибочного решения. Поэтому дальше мы будем анализировать параллельно 3 теста:\n",
    "\n",
    "1. Все пользователи, попавшие в тест\n",
    "2. Пользователи, заходившие с ПК `platform = 'pc'`\n",
    "3. Пользователи, заходившие с мобильного `platform = 'mobile'`"
   ]
  },
  {
   "cell_type": "markdown",
   "metadata": {
    "id": "x2DlXIbDbL07"
   },
   "source": [
    "**Создай для каждой из 3 групп теста отдельную таблицу с метриками**\n",
    "   - общее количество пользователей \n",
    "   - количество покупок в окне конверсии\n",
    "   - средняя сумма покупки \n",
    "   - конверсия (количество покупок в окне конверсии / общее количество пользователей или среднее по полю `within_window`)\n",
    "    \n",
    "*Для фильтрации нужных пользователей можешь использовать* `loc[ ]`\n"
   ]
  },
  {
   "cell_type": "code",
   "execution_count": 90,
   "metadata": {
    "id": "yicAUBtnbL07"
   },
   "outputs": [
    {
     "data": {
      "text/html": [
       "<div>\n",
       "<style scoped>\n",
       "    .dataframe tbody tr th:only-of-type {\n",
       "        vertical-align: middle;\n",
       "    }\n",
       "\n",
       "    .dataframe tbody tr th {\n",
       "        vertical-align: top;\n",
       "    }\n",
       "\n",
       "    .dataframe thead th {\n",
       "        text-align: right;\n",
       "    }\n",
       "</style>\n",
       "<table border=\"1\" class=\"dataframe\">\n",
       "  <thead>\n",
       "    <tr style=\"text-align: right;\">\n",
       "      <th></th>\n",
       "      <th>test_group</th>\n",
       "      <th>user_id</th>\n",
       "      <th>within_window</th>\n",
       "      <th>purchase_amount</th>\n",
       "      <th>conversion</th>\n",
       "    </tr>\n",
       "  </thead>\n",
       "  <tbody>\n",
       "    <tr>\n",
       "      <th>0</th>\n",
       "      <td>control</td>\n",
       "      <td>75210</td>\n",
       "      <td>22998</td>\n",
       "      <td>5170.864335</td>\n",
       "      <td>30.58</td>\n",
       "    </tr>\n",
       "    <tr>\n",
       "      <th>1</th>\n",
       "      <td>test</td>\n",
       "      <td>75273</td>\n",
       "      <td>24427</td>\n",
       "      <td>5394.771589</td>\n",
       "      <td>32.45</td>\n",
       "    </tr>\n",
       "  </tbody>\n",
       "</table>\n",
       "</div>"
      ],
      "text/plain": [
       "  test_group  user_id  within_window  purchase_amount  conversion\n",
       "0    control    75210          22998      5170.864335       30.58\n",
       "1       test    75273          24427      5394.771589       32.45"
      ]
     },
     "execution_count": 90,
     "metadata": {},
     "output_type": "execute_result"
    }
   ],
   "source": [
    "metrics = data.groupby('test_group', as_index= False).agg({'user_id': 'count', 'within_window': 'sum', 'purchase_amount': 'mean'})\n",
    "metrics['conversion'] = round(metrics['within_window']/metrics['user_id']*100, 2)\n",
    "metrics"
   ]
  },
  {
   "cell_type": "code",
   "execution_count": 142,
   "metadata": {},
   "outputs": [
    {
     "data": {
      "text/html": [
       "<div>\n",
       "<style scoped>\n",
       "    .dataframe tbody tr th:only-of-type {\n",
       "        vertical-align: middle;\n",
       "    }\n",
       "\n",
       "    .dataframe tbody tr th {\n",
       "        vertical-align: top;\n",
       "    }\n",
       "\n",
       "    .dataframe thead th {\n",
       "        text-align: right;\n",
       "    }\n",
       "</style>\n",
       "<table border=\"1\" class=\"dataframe\">\n",
       "  <thead>\n",
       "    <tr style=\"text-align: right;\">\n",
       "      <th></th>\n",
       "      <th>test_group</th>\n",
       "      <th>user_id</th>\n",
       "      <th>within_window</th>\n",
       "      <th>purchase_amount</th>\n",
       "      <th>conversion</th>\n",
       "    </tr>\n",
       "  </thead>\n",
       "  <tbody>\n",
       "    <tr>\n",
       "      <th>0</th>\n",
       "      <td>control</td>\n",
       "      <td>45112</td>\n",
       "      <td>13732</td>\n",
       "      <td>5200.121803</td>\n",
       "      <td>30.44</td>\n",
       "    </tr>\n",
       "    <tr>\n",
       "      <th>1</th>\n",
       "      <td>test</td>\n",
       "      <td>60317</td>\n",
       "      <td>19659</td>\n",
       "      <td>5401.003720</td>\n",
       "      <td>32.59</td>\n",
       "    </tr>\n",
       "  </tbody>\n",
       "</table>\n",
       "</div>"
      ],
      "text/plain": [
       "  test_group  user_id  within_window  purchase_amount  conversion\n",
       "0    control    45112          13732      5200.121803       30.44\n",
       "1       test    60317          19659      5401.003720       32.59"
      ]
     },
     "execution_count": 142,
     "metadata": {},
     "output_type": "execute_result"
    }
   ],
   "source": [
    "data_pc = data.loc[data['platform'] == 'pc']\n",
    "metrics_pc = data_pc.groupby('test_group', as_index= False).agg({'user_id': 'count', 'within_window': 'sum', 'purchase_amount': 'mean'})\n",
    "metrics_pc['conversion'] = round(metrics_pc['within_window']/metrics_pc['user_id']*100, 2)\n",
    "metrics_pc "
   ]
  },
  {
   "cell_type": "code",
   "execution_count": 208,
   "metadata": {
    "id": "j1bGG9yrbL08"
   },
   "outputs": [
    {
     "data": {
      "text/html": [
       "<div>\n",
       "<style scoped>\n",
       "    .dataframe tbody tr th:only-of-type {\n",
       "        vertical-align: middle;\n",
       "    }\n",
       "\n",
       "    .dataframe tbody tr th {\n",
       "        vertical-align: top;\n",
       "    }\n",
       "\n",
       "    .dataframe thead th {\n",
       "        text-align: right;\n",
       "    }\n",
       "</style>\n",
       "<table border=\"1\" class=\"dataframe\">\n",
       "  <thead>\n",
       "    <tr style=\"text-align: right;\">\n",
       "      <th></th>\n",
       "      <th>test_group</th>\n",
       "      <th>user_id</th>\n",
       "      <th>within_window</th>\n",
       "      <th>purchase_amount</th>\n",
       "      <th>conversion</th>\n",
       "    </tr>\n",
       "  </thead>\n",
       "  <tbody>\n",
       "    <tr>\n",
       "      <th>0</th>\n",
       "      <td>control</td>\n",
       "      <td>30098</td>\n",
       "      <td>9266</td>\n",
       "      <td>5127.505438</td>\n",
       "      <td>30.79</td>\n",
       "    </tr>\n",
       "    <tr>\n",
       "      <th>1</th>\n",
       "      <td>test</td>\n",
       "      <td>14956</td>\n",
       "      <td>4768</td>\n",
       "      <td>5369.075812</td>\n",
       "      <td>31.88</td>\n",
       "    </tr>\n",
       "  </tbody>\n",
       "</table>\n",
       "</div>"
      ],
      "text/plain": [
       "  test_group  user_id  within_window  purchase_amount  conversion\n",
       "0    control    30098           9266      5127.505438       30.79\n",
       "1       test    14956           4768      5369.075812       31.88"
      ]
     },
     "execution_count": 208,
     "metadata": {},
     "output_type": "execute_result"
    }
   ],
   "source": [
    "data_mobile = data.loc[data['platform'] == 'mobile']\n",
    "metrics_mobile = data_mobile.groupby('test_group', as_index= False).agg({'user_id': 'count', 'within_window': 'sum', 'purchase_amount': 'mean'})\n",
    "metrics_mobile['conversion'] = round(metrics_mobile['within_window']/metrics_mobile['user_id']*100, 2)\n",
    "metrics_mobile "
   ]
  },
  {
   "cell_type": "markdown",
   "metadata": {
    "id": "CqMnSwzvbL08"
   },
   "source": [
    "**1. Вычисли** `p-value` **для каждой группы с помощью теста хи-квадрат**\n",
    "\n",
    "   - Импортируй библиотеку `statsmodels` и используй функцию `proportions_chisquare` из нее\n",
    "   - Результат работы функции `proportions_chisquare` присвой трем переменным для каждой группы\n"
   ]
  },
  {
   "cell_type": "code",
   "execution_count": 144,
   "metadata": {
    "id": "Q5J-6Z54bL08"
   },
   "outputs": [],
   "source": [
    "import statsmodels.stats.proportion as proportion"
   ]
  },
  {
   "cell_type": "code",
   "execution_count": 165,
   "metadata": {
    "id": "_w0kri_PbL0-"
   },
   "outputs": [],
   "source": [
    "chi2stat, pval, table = proportion.proportions_chisquare(metrics['user_id'], metrics['within_window'], metrics['purchase_amount'])"
   ]
  },
  {
   "cell_type": "code",
   "execution_count": 166,
   "metadata": {
    "id": "WZHc1CEHbL0-"
   },
   "outputs": [],
   "source": [
    "chi2stat_pc, pval_pc, table_pc = proportion.proportions_chisquare(metrics_pc['user_id'], metrics_pc['within_window'], metrics_pc['purchase_amount'])"
   ]
  },
  {
   "cell_type": "code",
   "execution_count": 167,
   "metadata": {
    "id": "hu9CH3VFbL0_"
   },
   "outputs": [],
   "source": [
    "chi2stat_mobile, pval_mobile, table_mobile = proportion.proportions_chisquare(metrics_mobile['user_id'], metrics_mobile['within_window'], metrics_mobile['purchase_amount'])"
   ]
  },
  {
   "cell_type": "markdown",
   "metadata": {
    "id": "cbSeqgLkbL0_"
   },
   "source": [
    "**2. Введи в анализ уровень значимости в 5% с помощью переменной** `alpha`.\n"
   ]
  },
  {
   "cell_type": "code",
   "execution_count": 168,
   "metadata": {
    "id": "YRT0d5F4bL0_"
   },
   "outputs": [
    {
     "name": "stdout",
     "output_type": "stream",
     "text": [
      "False\n"
     ]
    }
   ],
   "source": [
    "alpha = 0.05\n",
    "print(pval < alpha)"
   ]
  },
  {
   "cell_type": "code",
   "execution_count": 206,
   "metadata": {},
   "outputs": [
    {
     "name": "stdout",
     "output_type": "stream",
     "text": [
      "False\n"
     ]
    }
   ],
   "source": [
    "alpha = 0.05\n",
    "print(pval_pc < alpha)"
   ]
  },
  {
   "cell_type": "code",
   "execution_count": 207,
   "metadata": {},
   "outputs": [
    {
     "name": "stdout",
     "output_type": "stream",
     "text": [
      "False\n"
     ]
    }
   ],
   "source": [
    "alpha = 0.05\n",
    "print(pval_mobile < alpha)"
   ]
  },
  {
   "cell_type": "markdown",
   "metadata": {
    "id": "5HjWvrfObL1A"
   },
   "source": [
    "**3. Оставь комментарий, какой вывод о наличии статистически значимой в каждой группе разницы можно сделать? Что делаем с нулевой гипотезой?**"
   ]
  },
  {
   "cell_type": "markdown",
   "metadata": {},
   "source": [
    "Статистически значимой разницы в конверсиях не обнаружено, так как p-value выше выбранного порога ошибки первого рода."
   ]
  },
  {
   "cell_type": "markdown",
   "metadata": {
    "id": "aTrhi9zfbL1B"
   },
   "source": [
    "## Задание 4. Вычисли мощность теста\n",
    "\n",
    "1. Импортируй объект `stats.power` из библиотеки `statsmodels`\n",
    "2. Присвой функцию `GofChisquarePower()` из этой библиотеки в переменную `chipower` \n",
    "3. Реализуй функцию для подсчета `effect_size`"
   ]
  },
  {
   "cell_type": "code",
   "execution_count": 169,
   "metadata": {
    "id": "-yk7MRcIbL1B"
   },
   "outputs": [],
   "source": [
    "import statsmodels.stats.power as smp"
   ]
  },
  {
   "cell_type": "code",
   "execution_count": 170,
   "metadata": {
    "id": "-riu6DIdbL1C"
   },
   "outputs": [],
   "source": [
    "chipower = smp.GofChisquarePower()\n",
    "??chipower.solve_power"
   ]
  },
  {
   "cell_type": "markdown",
   "metadata": {
    "id": "fPvQU-50bL1D"
   },
   "source": [
    "`effect_size` — это та самая наблюдаемая разница между двумя вариантами. Вычисляется следующим образом: \n",
    "\n",
    "$$ES = \\sqrt{(p_0 - p_1)^2/p_o}$$\n",
    "\n",
    ", где под $p_0$ можно понимать конверсию в контрольной группе, а $p_1$ — тестовой"
   ]
  },
  {
   "cell_type": "code",
   "execution_count": 171,
   "metadata": {
    "id": "oKd-pOhNbL1H"
   },
   "outputs": [],
   "source": [
    "def chi2_effect_size(p0, p1):\n",
    "    return np.sqrt(((p0 - p1)**2 / p0))"
   ]
  },
  {
   "cell_type": "markdown",
   "metadata": {
    "id": "DNxX0FxlbL1I"
   },
   "source": [
    "4. Запиши значения конверсии в тестовой `conversion_test` и контрольной `conversion_control` группы в разные переменные\n",
    "    - переведи серию в массив с помощью `.values[ ]`\n",
    "    - раздели значения на 100, чтобы получить значения, а не %\n",
    "    \n",
    "    \n",
    "5. Создай переменную nobs для количества наблюдений и запиши в нее значение меньшей группы"
   ]
  },
  {
   "cell_type": "code",
   "execution_count": 172,
   "metadata": {
    "id": "3Pk5F428bL1J"
   },
   "outputs": [],
   "source": [
    "conversion_control = metrics['conversion'].values[0]/100 \n",
    "conversion_test = metrics['conversion'].values[1]/100\n",
    "nobs = min(metrics['user_id'])"
   ]
  },
  {
   "cell_type": "code",
   "execution_count": 173,
   "metadata": {
    "id": "GvXJIApvbL1K"
   },
   "outputs": [],
   "source": [
    "conversion_control_mobile = metrics_mobile['conversion'].values[0]/100 \n",
    "conversion_test_mobile = metrics_mobile['conversion'].values[1]/100\n",
    "nobs_mobile = min(metrics_mobile['user_id'])"
   ]
  },
  {
   "cell_type": "code",
   "execution_count": 174,
   "metadata": {
    "id": "uCdz925obL1K"
   },
   "outputs": [],
   "source": [
    "conversion_control_pc = metrics_pc['conversion'].values[0]/100 \n",
    "conversion_test_pc = metrics_pc['conversion'].values[1]/100\n",
    "nobs_pc = min(metrics_pc['user_id'])"
   ]
  },
  {
   "cell_type": "markdown",
   "metadata": {
    "id": "_IYBUKzTbL1K"
   },
   "source": [
    "**6. Вызови функцию .solve_power и передай ей в аргументы** \n",
    "    - effect_size\n",
    "    - количество наблюдений меньшей группы\n",
    "    - значение p-value\n",
    "    - мощности присвой значение None\n",
    "    \n",
    "**7. Сделай анализ мощности для каждого сегмента, для которого делали тест хи-квадрат.**\n",
    "\n",
    "Оставь комментарий, как ты оцениваешь мощность этого теста? Можно ли на основе таких показателей делать выводы?\n"
   ]
  },
  {
   "cell_type": "code",
   "execution_count": 180,
   "metadata": {
    "id": "iedF3DKybL1L"
   },
   "outputs": [
    {
     "data": {
      "text/plain": [
       "1.0"
      ]
     },
     "execution_count": 180,
     "metadata": {},
     "output_type": "execute_result"
    }
   ],
   "source": [
    "power = chipower.solve_power(effect_size = chi2_effect_size(conversion_control, conversion_test), # разница коэффициентов конверсии\n",
    "                                               nobs = nobs, # размер выборки\n",
    "                                               alpha = pval, # значение ошибки первого рода на наших данных\n",
    "                                               power = None) # функция вернет значение, указаное как None\n",
    "power"
   ]
  },
  {
   "cell_type": "code",
   "execution_count": 209,
   "metadata": {
    "id": "N5BqF4yYbL1L"
   },
   "outputs": [
    {
     "data": {
      "text/plain": [
       "1.0"
      ]
     },
     "execution_count": 209,
     "metadata": {},
     "output_type": "execute_result"
    }
   ],
   "source": [
    "mobile_power = chipower.solve_power(effect_size = chi2_effect_size(conversion_control_mobile, conversion_test_mobile), \n",
    "                                               nobs = nobs_mobile,\n",
    "                                               alpha = pval_mobile, \n",
    "                                               power = None)\n",
    "mobile_power"
   ]
  },
  {
   "cell_type": "code",
   "execution_count": 211,
   "metadata": {
    "id": "EkzdB9swbL1L"
   },
   "outputs": [
    {
     "data": {
      "text/plain": [
       "1.0"
      ]
     },
     "execution_count": 211,
     "metadata": {},
     "output_type": "execute_result"
    }
   ],
   "source": [
    "pc_power = chipower.solve_power(effect_size = chi2_effect_size(conversion_control_pc, conversion_test_pc), \n",
    "                                               nobs = nobs_pc,\n",
    "                                               alpha = pval_pc, \n",
    "                                               power = None)\n",
    "pc_power"
   ]
  },
  {
   "cell_type": "markdown",
   "metadata": {
    "id": "lYlqrjkLbL1M"
   },
   "source": [
    "## Задание 5. Воспользуйся бутстрапом для оценки влияния теста на средний чек"
   ]
  },
  {
   "cell_type": "markdown",
   "metadata": {
    "id": "cAEEwfC1bL1N"
   },
   "source": [
    "**1. Сделай бутстрап среднего чека для тестовой и контрольной выборок, визуализируй результат. Какие выводы можно сделать?**\n",
    "   - загрузи нужные модули из библиотеки `bootstrapped`\n",
    "   - для сегментов, которые мы анализируем отдельно, создай переменную со значением среднего чека\n",
    "   - чтобы убрать строки без покупок, используй `dropna()` и `.values`, чтобы перевести данные в формат массива"
   ]
  },
  {
   "cell_type": "code",
   "execution_count": 185,
   "metadata": {
    "id": "HiFX2R0DbL1O"
   },
   "outputs": [],
   "source": [
    "# импортируем необходимые модули\n",
    "import bootstrapped.bootstrap as bs\n",
    "import bootstrapped.stats_functions as bs_stats\n",
    "import bootstrapped.compare_functions as bs_compare\n",
    "import numpy as np"
   ]
  },
  {
   "cell_type": "code",
   "execution_count": 212,
   "metadata": {},
   "outputs": [],
   "source": [
    "??bs.bootstrap_ab"
   ]
  },
  {
   "cell_type": "code",
   "execution_count": 188,
   "metadata": {
    "id": "Q4QY9KlEbL1O"
   },
   "outputs": [],
   "source": [
    "test = data[data['test_group'] == 'test']['purchase_amount'].dropna().values\n",
    "control = data[data['test_group'] == 'control']['purchase_amount'].dropna().values\n",
    "\n",
    "test_pc = data_pc[data_pc['test_group'] == 'test']['purchase_amount'].dropna().values\n",
    "control_pc = data_pc[data_pc['test_group'] == 'control']['purchase_amount'].dropna().values\n",
    "\n",
    "test_mobile = data_mobile[data_mobile['test_group'] == 'test']['purchase_amount'].dropna().values\n",
    "control_mobile = data_mobile[data_mobile['test_group'] == 'control']['purchase_amount'].dropna().values"
   ]
  },
  {
   "cell_type": "markdown",
   "metadata": {
    "id": "2kZnidOtbL1P"
   },
   "source": [
    "**2. Вызови функцию `bootstrap_ab` для каждого сегмента, передай ей нужные аргументы**\n",
    "   - `test = `\n",
    "   - `ctrl = `\n",
    "   - `stat_func = bs_stats.mean`\n",
    "   - `compare_func = bs_compare.difference`\n",
    "   - `return_distribution = True`"
   ]
  },
  {
   "cell_type": "code",
   "execution_count": 224,
   "metadata": {
    "id": "_3d_VHvpbL1P"
   },
   "outputs": [
    {
     "data": {
      "text/plain": [
       "array([196.87089689, 210.57359174, 181.75913046, ..., 196.26379224,\n",
       "       205.6044134 , 311.80830707])"
      ]
     },
     "execution_count": 224,
     "metadata": {},
     "output_type": "execute_result"
    }
   ],
   "source": [
    "boot = bs.bootstrap_ab(test = test, ctrl = control\n",
    "                              , stat_func = bs_stats.mean\n",
    "                              , compare_func = bs_compare.difference\n",
    "                              , return_distribution=True)\n",
    "boot"
   ]
  },
  {
   "cell_type": "code",
   "execution_count": 195,
   "metadata": {
    "id": "vfIIQjwVbL1Q",
    "scrolled": true
   },
   "outputs": [
    {
     "data": {
      "text/plain": [
       "array([147.05500458, 203.87642708, 243.54131897, ..., 204.99999193,\n",
       "       296.21904493, 181.641653  ])"
      ]
     },
     "execution_count": 195,
     "metadata": {},
     "output_type": "execute_result"
    }
   ],
   "source": [
    "boot_pc = bs.bootstrap_ab(test = test_pc, ctrl = control_pc\n",
    "                              , stat_func = bs_stats.mean\n",
    "                              , compare_func = bs_compare.difference\n",
    "                              , return_distribution=True)\n",
    "boot_pc"
   ]
  },
  {
   "cell_type": "code",
   "execution_count": 196,
   "metadata": {
    "id": "EvRqr4YmbL1R"
   },
   "outputs": [
    {
     "data": {
      "text/plain": [
       "array([131.968348  , 327.40391635, 214.56354715, ..., 401.90032428,\n",
       "       297.44944037, 213.3066933 ])"
      ]
     },
     "execution_count": 196,
     "metadata": {},
     "output_type": "execute_result"
    }
   ],
   "source": [
    "boot_mobile = bs.bootstrap_ab(test = test_mobile, ctrl = control_mobile\n",
    "                              , stat_func = bs_stats.mean\n",
    "                              , compare_func = bs_compare.difference\n",
    "                              , return_distribution=True)\n",
    "boot_mobile"
   ]
  },
  {
   "cell_type": "markdown",
   "metadata": {
    "id": "48tQjFX3bL1R"
   },
   "source": [
    "**3. Задай размер доверительного интервала для каждого исследуемого сегмента 95% с помощью перцентилей**"
   ]
  },
  {
   "cell_type": "code",
   "execution_count": 225,
   "metadata": {
    "id": "gCCAbRnfbL1R"
   },
   "outputs": [
    {
     "name": "stdout",
     "output_type": "stream",
     "text": [
      "[142.88357993 303.88642025]\n",
      "[103.87368202 298.85127852]\n",
      "[ 85.012689   396.76198596]\n"
     ]
    }
   ],
   "source": [
    "borders = np.percentile(boot, [2.5, 97.5]) \n",
    "print(borders)\n",
    "\n",
    "borders_pc = np.percentile(boot_pc, [2.5, 97.5]) \n",
    "print(borders_pc)\n",
    "\n",
    "borders_mobile = np.percentile(boot_mobile, [2.5, 97.5]) \n",
    "print(borders_mobile)"
   ]
  },
  {
   "cell_type": "markdown",
   "metadata": {
    "id": "VX-vFjvCbL1S"
   },
   "source": [
    "**4. Оцени, есть ли статистически значимое изменение по среднему чеку в каждом сегменте**\n",
    "\n",
    "   - Построй гистограмму распределения значений среднего чека.\n",
    "   - Выведи границы доверительного интервала линиями.\n",
    "   - Выведи ноль красной линией.\n",
    "   - Оставь комментарий, есть ли статистически значимое изменение по среднему чеку в каждом сегменте."
   ]
  },
  {
   "cell_type": "code",
   "execution_count": 226,
   "metadata": {
    "id": "yrzEZotTbL1S"
   },
   "outputs": [
    {
     "name": "stderr",
     "output_type": "stream",
     "text": [
      "C:\\Users\\snyat\\anaconda3\\lib\\site-packages\\seaborn\\distributions.py:2619: FutureWarning: `distplot` is a deprecated function and will be removed in a future version. Please adapt your code to use either `displot` (a figure-level function with similar flexibility) or `histplot` (an axes-level function for histograms).\n",
      "  warnings.warn(msg, FutureWarning)\n"
     ]
    },
    {
     "data": {
      "image/png": "[encoded data removed]",
      "text/plain": [
       "<Figure size 864x432 with 1 Axes>"
      ]
     },
     "metadata": {
      "needs_background": "light"
     },
     "output_type": "display_data"
    }
   ],
   "source": [
    "sns.distplot(boot) # функция построения распределения\n",
    "plt.title('Bootstrap-распределение разниц среднего чека_все пользователи')\n",
    "plt.rcParams[\"figure.figsize\"] = (12, 6)\n",
    "plt.vlines(0, # отрисуем линию на уровне ноля\n",
    "           ymin = 0, \n",
    "           ymax = 0.003, \n",
    "           linestyles= '--', \n",
    "           colors = 'red')\n",
    "plt.vlines(borders, # отрисуем перцентили\n",
    "           ymin = 0, \n",
    "           ymax = 0.003, \n",
    "           linestyles= '--', \n",
    "           colors = 'grey', \n",
    "           label = '95%-доверительный интервал')\n",
    "plt.legend()\n",
    "plt.show()"
   ]
  },
  {
   "cell_type": "code",
   "execution_count": 221,
   "metadata": {},
   "outputs": [
    {
     "name": "stderr",
     "output_type": "stream",
     "text": [
      "C:\\Users\\snyat\\anaconda3\\lib\\site-packages\\seaborn\\distributions.py:2619: FutureWarning: `distplot` is a deprecated function and will be removed in a future version. Please adapt your code to use either `displot` (a figure-level function with similar flexibility) or `histplot` (an axes-level function for histograms).\n",
      "  warnings.warn(msg, FutureWarning)\n"
     ]
    },
    {
     "data": {
      "image/png": "[encoded data removed]",
      "text/plain": [
       "<Figure size 864x432 with 1 Axes>"
      ]
     },
     "metadata": {
      "needs_background": "light"
     },
     "output_type": "display_data"
    }
   ],
   "source": [
    "sns.distplot(boot_pc) # функция построения распределения\n",
    "plt.title('Bootstrap-распределение разниц среднего чека_пользователи, заходившие с ПК platform')\n",
    "plt.rcParams[\"figure.figsize\"] = (12, 6)\n",
    "plt.vlines(0, # отрисуем линию на уровне ноля\n",
    "           ymin = 0, \n",
    "           ymax = 0.003, \n",
    "           linestyles= '--', \n",
    "           colors = 'red')\n",
    "plt.vlines(borders_pc, # отрисуем перцентили\n",
    "           ymin = 0, \n",
    "           ymax = 0.003, \n",
    "           linestyles= '--', \n",
    "           colors = 'grey', \n",
    "           label = '95%-доверительный интервал')\n",
    "plt.legend()\n",
    "plt.show()"
   ]
  },
  {
   "cell_type": "code",
   "execution_count": 222,
   "metadata": {},
   "outputs": [
    {
     "name": "stderr",
     "output_type": "stream",
     "text": [
      "C:\\Users\\snyat\\anaconda3\\lib\\site-packages\\seaborn\\distributions.py:2619: FutureWarning: `distplot` is a deprecated function and will be removed in a future version. Please adapt your code to use either `displot` (a figure-level function with similar flexibility) or `histplot` (an axes-level function for histograms).\n",
      "  warnings.warn(msg, FutureWarning)\n"
     ]
    },
    {
     "data": {
      "image/png": "[encoded data removed]",
      "text/plain": [
       "<Figure size 864x432 with 1 Axes>"
      ]
     },
     "metadata": {
      "needs_background": "light"
     },
     "output_type": "display_data"
    }
   ],
   "source": [
    "sns.distplot(boot_mobile) # функция построения распределения\n",
    "plt.title('Bootstrap-распределение разниц среднего чека_пользователи, заходившие с мобильного platform')\n",
    "plt.rcParams[\"figure.figsize\"] = (12, 6)\n",
    "plt.vlines(0, # отрисуем линию на уровне ноля\n",
    "           ymin = 0, \n",
    "           ymax = 0.003, \n",
    "           linestyles= '--', \n",
    "           colors = 'red')\n",
    "plt.vlines(borders_mobile, # отрисуем перцентили\n",
    "           ymin = 0, \n",
    "           ymax = 0.003, \n",
    "           linestyles= '--', \n",
    "           colors = 'grey', \n",
    "           label = '95%-доверительный интервал')\n",
    "plt.legend()\n",
    "plt.show()"
   ]
  },
  {
   "cell_type": "code",
   "execution_count": null,
   "metadata": {},
   "outputs": [],
   "source": [
    "Статистически значимая разница в среднем чеке обнаружена, так как 0 не входит в доверительный интервал разницы между группами."
   ]
  },
  {
   "cell_type": "markdown",
   "metadata": {
    "id": "feYlEGx_bL1S"
   },
   "source": [
    "## Задание 6. Сделай вывод по результатам проведенного теста (заданий 2–5)\n",
    "\n",
    "Нужно ли внедрять изменение каталога? Почему?"
   ]
  },
  {
   "cell_type": "markdown",
   "metadata": {},
   "source": [
    "На основании статистического анализа, можно сделать выводы, что конверсия не изменилась, но средний чек вырос на 200-250ед. \n",
    "На основании имеющейся в распоряжении информации и если затраты на изменение каталога не привысят вероятный перспективный доход, то внедрение изменения каталога целесообразно."
   ]
  }
 ],
 "metadata": {
  "colab": {
   "name": "Skills_Python_4.1_homework.ipynb",
   "provenance": []
  },
  "kernelspec": {
   "display_name": "Python 3 (ipykernel)",
   "language": "python",
   "name": "python3"
  },
  "language_info": {
   "codemirror_mode": {
    "name": "ipython",
    "version": 3
   },
   "file_extension": ".py",
   "mimetype": "text/x-python",
   "name": "python",
   "nbconvert_exporter": "python",
   "pygments_lexer": "ipython3",
   "version": "3.9.7"
  }
 },
 "nbformat": 4,
 "nbformat_minor": 1
}
