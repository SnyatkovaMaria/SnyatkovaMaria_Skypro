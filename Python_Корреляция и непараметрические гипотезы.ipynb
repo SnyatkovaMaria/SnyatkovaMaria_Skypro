{
 "cells": [
  {
   "cell_type": "code",
   "execution_count": 102,
   "id": "12eec265",
   "metadata": {},
   "outputs": [],
   "source": [
    "import pandas as pd\n",
    "import seaborn as sns\n",
    "import matplotlib.pyplot as plt\n",
    "import numpy as np\n",
    "from scipy import stats\n",
    "import scipy.stats as stats"
   ]
  },
  {
   "cell_type": "markdown",
   "id": "6c7ea128",
   "metadata": {},
   "source": [
    "### Задание 1\n",
    "\n",
    "1. Импортируйте файл «Данные для ДЗ 5 Корреляции.csv».\n",
    "2. Постройте гистограммы распределения для рядов PHYSICS и BLOOD и сделайте визуальный вывод о нормальности распределения данных.\n",
    "3. Постройте scatterplot этих двух величин и сделайте визуальный вывод о корреляции между ними.\n",
    "4. Создайте функцию **proxi_ranges**, которая берет на вход два ряда и уровень значимости (значение альфы по умолчанию равно 5%).\n",
    "Данная функция выполняет следующие действия:\n",
    "    - Вычисляет дисперсии рядов и их ковариацию с помощью функции cov из numpy и принтит эти результаты в user-friendly манере.\n",
    "    - Вычисляет корреляцию Пирсона и корреляцию Спирмена и p_value этих корреляций.\n",
    "    - Принтит результаты корреляционного анализа: корреляция равна нулю, если p_value больше альфы. В противном случае принтит, является ли корреляция слабой (меньше 0.3), средней (от 0.3 до 0.7) или сильной (больше 0.7) (для обеих корреляций).\n",
    "    - Функция не обладает return.\n",
    "5. Примените эту функцию к рядам PHYSICS и BLOOD из csv-файла."
   ]
  },
  {
   "cell_type": "code",
   "execution_count": 17,
   "id": "b150e807",
   "metadata": {},
   "outputs": [
    {
     "data": {
      "text/html": [
       "<div>\n",
       "<style scoped>\n",
       "    .dataframe tbody tr th:only-of-type {\n",
       "        vertical-align: middle;\n",
       "    }\n",
       "\n",
       "    .dataframe tbody tr th {\n",
       "        vertical-align: top;\n",
       "    }\n",
       "\n",
       "    .dataframe thead th {\n",
       "        text-align: right;\n",
       "    }\n",
       "</style>\n",
       "<table border=\"1\" class=\"dataframe\">\n",
       "  <thead>\n",
       "    <tr style=\"text-align: right;\">\n",
       "      <th></th>\n",
       "      <th>PHYSICS</th>\n",
       "      <th>BLOOD</th>\n",
       "    </tr>\n",
       "  </thead>\n",
       "  <tbody>\n",
       "    <tr>\n",
       "      <th>0</th>\n",
       "      <td>48</td>\n",
       "      <td>132</td>\n",
       "    </tr>\n",
       "    <tr>\n",
       "      <th>1</th>\n",
       "      <td>138</td>\n",
       "      <td>52</td>\n",
       "    </tr>\n",
       "    <tr>\n",
       "      <th>2</th>\n",
       "      <td>156</td>\n",
       "      <td>77</td>\n",
       "    </tr>\n",
       "    <tr>\n",
       "      <th>3</th>\n",
       "      <td>167</td>\n",
       "      <td>64</td>\n",
       "    </tr>\n",
       "    <tr>\n",
       "      <th>4</th>\n",
       "      <td>105</td>\n",
       "      <td>89</td>\n",
       "    </tr>\n",
       "    <tr>\n",
       "      <th>...</th>\n",
       "      <td>...</td>\n",
       "      <td>...</td>\n",
       "    </tr>\n",
       "    <tr>\n",
       "      <th>1430</th>\n",
       "      <td>174</td>\n",
       "      <td>52</td>\n",
       "    </tr>\n",
       "    <tr>\n",
       "      <th>1431</th>\n",
       "      <td>6</td>\n",
       "      <td>135</td>\n",
       "    </tr>\n",
       "    <tr>\n",
       "      <th>1432</th>\n",
       "      <td>131</td>\n",
       "      <td>58</td>\n",
       "    </tr>\n",
       "    <tr>\n",
       "      <th>1433</th>\n",
       "      <td>133</td>\n",
       "      <td>72</td>\n",
       "    </tr>\n",
       "    <tr>\n",
       "      <th>1434</th>\n",
       "      <td>50</td>\n",
       "      <td>106</td>\n",
       "    </tr>\n",
       "  </tbody>\n",
       "</table>\n",
       "<p>1435 rows × 2 columns</p>\n",
       "</div>"
      ],
      "text/plain": [
       "      PHYSICS  BLOOD\n",
       "0          48    132\n",
       "1         138     52\n",
       "2         156     77\n",
       "3         167     64\n",
       "4         105     89\n",
       "...       ...    ...\n",
       "1430      174     52\n",
       "1431        6    135\n",
       "1432      131     58\n",
       "1433      133     72\n",
       "1434       50    106\n",
       "\n",
       "[1435 rows x 2 columns]"
      ]
     },
     "execution_count": 17,
     "metadata": {},
     "output_type": "execute_result"
    }
   ],
   "source": [
    "df = pd.read_csv('Данные для дз5 Корреляции.csv', sep = ';')\n",
    "df"
   ]
  },
  {
   "cell_type": "code",
   "execution_count": null,
   "id": "740674bd",
   "metadata": {},
   "outputs": [],
   "source": [
    "# sns.set(rc={'figure.figsize':(5,5)})\n",
    "# ax1 = sns.histplot(df['PHYSICS'], color='blue')\n",
    "# plt.show(ax1)\n",
    "# ax2 = sns.histplot(df['BLOOD'], color='orange')\n",
    "# plt.show(ax2)"
   ]
  },
  {
   "cell_type": "code",
   "execution_count": 14,
   "id": "d6118d22",
   "metadata": {},
   "outputs": [
    {
     "data": {
      "image/png": "[encoded data removed]",
      "text/plain": [
       "<Figure size 432x288 with 2 Axes>"
      ]
     },
     "metadata": {
      "needs_background": "light"
     },
     "output_type": "display_data"
    }
   ],
   "source": [
    "fig, (ax1, ax2) = plt.subplots(1, 2)\n",
    "fig.suptitle('PHYSICS and BLOOD')\n",
    "ax1.hist(df['PHYSICS'], bins=1435, histtype='bar', ec='royalblue') \n",
    "ax2.hist(df['BLOOD'], bins=1435, histtype='bar', ec='tan') \n",
    "ax1.set_xlabel(\"PHYSICS\")\n",
    "ax2.set_xlabel(\"BLOOD\")\n",
    "plt.show()"
   ]
  },
  {
   "cell_type": "markdown",
   "id": "c24a9dff",
   "metadata": {},
   "source": [
    "На основе визуального анализа, можно предположить, что гистограмма ряда PHYSICS распределена не нормально, гистограмма ряда BLOOD распределена также не нормально, но это может быть связано с выбросами."
   ]
  },
  {
   "cell_type": "code",
   "execution_count": 15,
   "id": "cb24dbe0",
   "metadata": {},
   "outputs": [
    {
     "data": {
      "image/png": "[encoded data removed]",
      "text/plain": [
       "<Figure size 720x720 with 1 Axes>"
      ]
     },
     "metadata": {
      "needs_background": "light"
     },
     "output_type": "display_data"
    }
   ],
   "source": [
    "plt.figure(figsize=(10, 10)) \n",
    "\n",
    "plt.xlim(-1, 200) # минусовое значение, чтобы не отрезать 0\n",
    "plt.ylim(-1, 170)\n",
    "\n",
    "\n",
    "\n",
    "sns.scatterplot(data=df, \n",
    "                x=\"PHYSICS\", \n",
    "                y=\"BLOOD\",\n",
    "               )\n",
    "plt.grid()"
   ]
  },
  {
   "cell_type": "markdown",
   "id": "6bc17d77",
   "metadata": {},
   "source": [
    "На основе визуального анализа, можно предположить, что существует отрицательная корреляция между рядами PHYSICS и BLOOD, а также некоторое количество выбросов."
   ]
  },
  {
   "cell_type": "code",
   "execution_count": 88,
   "id": "32dd2ca6",
   "metadata": {},
   "outputs": [
    {
     "name": "stdout",
     "output_type": "stream",
     "text": [
      "Корреляция Пирсона:\n",
      "Кореляция отрицательная\n",
      "Корреляция средняя\n",
      " \n",
      "Корреляция Спирмена:\n",
      "Кореляция отрицательная\n",
      "Корреляция средняя\n"
     ]
    }
   ],
   "source": [
    "r1 = df['PHYSICS']\n",
    "r2 = df['BLOOD']\n",
    "\n",
    "def proxi_ranges(r1, r2, alpha=0.05):\n",
    "    var_r1 = np.var(r1)\n",
    "    var_r2 = np.var(r2)    \n",
    "    cov_r1 = np.cov(r1)\n",
    "    cov_r2 = np.cov(r2)\n",
    "    corrcoef_array = np.corrcoef(r1, r2)\n",
    "    corrcoef = corrcoef_array[0][1]\n",
    "    spearmanr, pvalue = stats.spearmanr(r1, r2)\n",
    "\n",
    "#     print(var_r1)\n",
    "#     print(var_r2)\n",
    "#     print(cov_r1)\n",
    "#     print(cov_r2)\n",
    "#     print(corrcoef)  \n",
    "#     print(spearmanr)\n",
    "#     print(pvalue)\n",
    "\n",
    "    print('Корреляция Пирсона:')\n",
    "    if (pvalue > alpha):\n",
    "        print('Корреляция равна нулю')\n",
    "    else:\n",
    "        if ((corrcoef) < 0):\n",
    "            print('Кореляция отрицательная')\n",
    "        if (abs(corrcoef) < 0.3):\n",
    "            print ('Корреляция слабая')\n",
    "        elif (abs(corrcoef) < 0.7):\n",
    "            print ('Корреляция средняя')\n",
    "        elif (abs(corrcoef) > 0.7):        \n",
    "            print ('Корреляция сильная')\n",
    "            \n",
    "    print(' ')\n",
    "    print('Корреляция Спирмена:')\n",
    "    if (pvalue > alpha):\n",
    "        print('Корреляция равна нулю')\n",
    "    else:\n",
    "        if ((spearmanr) < 0):\n",
    "            print('Кореляция отрицательная')\n",
    "        if (abs(spearmanr) < 0.3):\n",
    "            print ('Корреляция слабая')\n",
    "        elif (abs(spearmanr) < 0.7):\n",
    "            print ('Корреляция средняя')\n",
    "        elif (abs(spearmanr) > 0.7):        \n",
    "            print ('Корреляция сильная')\n",
    "            \n",
    "proxi_ranges(r1, r2)"
   ]
  },
  {
   "cell_type": "markdown",
   "id": "be797db5",
   "metadata": {},
   "source": [
    "### Задание 2\n",
    "\n",
    "1. Импортируйте файл «Данные для ДЗ 5 Манн-Уитни.csv».\n",
    "2. Постройте гистограмму рядов BLOOD1 и BLOOD2.\n",
    "3. Создайте функцию **mann_whitney_func**, которая берет на вход два ряда и уровень значимости (значение альфы по умолчанию равно 5%).\n",
    "Данная функция выполняет следующие действия:\n",
    "    - Возвращает (в return) — значение статистики Манна — Уитни и p_value нулевой гипотезы.\n",
    "    - Принт результата в зависимости от соотношения p_value и alpha («Распределения (не) равны»).\n",
    "4. Примените эту функцию к рядам BLOOD1 и BLOOD2 из csv-файла.\n",
    "5. Примените к этим рядам также t-test для сравнения средних."
   ]
  },
  {
   "cell_type": "code",
   "execution_count": 90,
   "id": "5bd78ab5",
   "metadata": {
    "scrolled": true
   },
   "outputs": [
    {
     "data": {
      "text/html": [
       "<div>\n",
       "<style scoped>\n",
       "    .dataframe tbody tr th:only-of-type {\n",
       "        vertical-align: middle;\n",
       "    }\n",
       "\n",
       "    .dataframe tbody tr th {\n",
       "        vertical-align: top;\n",
       "    }\n",
       "\n",
       "    .dataframe thead th {\n",
       "        text-align: right;\n",
       "    }\n",
       "</style>\n",
       "<table border=\"1\" class=\"dataframe\">\n",
       "  <thead>\n",
       "    <tr style=\"text-align: right;\">\n",
       "      <th></th>\n",
       "      <th>BLOOD1</th>\n",
       "      <th>BLOOD2</th>\n",
       "    </tr>\n",
       "  </thead>\n",
       "  <tbody>\n",
       "    <tr>\n",
       "      <th>0</th>\n",
       "      <td>66</td>\n",
       "      <td>140.0</td>\n",
       "    </tr>\n",
       "    <tr>\n",
       "      <th>1</th>\n",
       "      <td>92</td>\n",
       "      <td>140.0</td>\n",
       "    </tr>\n",
       "    <tr>\n",
       "      <th>2</th>\n",
       "      <td>75</td>\n",
       "      <td>78.0</td>\n",
       "    </tr>\n",
       "    <tr>\n",
       "      <th>3</th>\n",
       "      <td>98</td>\n",
       "      <td>79.0</td>\n",
       "    </tr>\n",
       "    <tr>\n",
       "      <th>4</th>\n",
       "      <td>84</td>\n",
       "      <td>80.0</td>\n",
       "    </tr>\n",
       "    <tr>\n",
       "      <th>...</th>\n",
       "      <td>...</td>\n",
       "      <td>...</td>\n",
       "    </tr>\n",
       "    <tr>\n",
       "      <th>684</th>\n",
       "      <td>81</td>\n",
       "      <td>NaN</td>\n",
       "    </tr>\n",
       "    <tr>\n",
       "      <th>685</th>\n",
       "      <td>121</td>\n",
       "      <td>NaN</td>\n",
       "    </tr>\n",
       "    <tr>\n",
       "      <th>686</th>\n",
       "      <td>98</td>\n",
       "      <td>NaN</td>\n",
       "    </tr>\n",
       "    <tr>\n",
       "      <th>687</th>\n",
       "      <td>96</td>\n",
       "      <td>NaN</td>\n",
       "    </tr>\n",
       "    <tr>\n",
       "      <th>688</th>\n",
       "      <td>118</td>\n",
       "      <td>NaN</td>\n",
       "    </tr>\n",
       "  </tbody>\n",
       "</table>\n",
       "<p>689 rows × 2 columns</p>\n",
       "</div>"
      ],
      "text/plain": [
       "     BLOOD1  BLOOD2\n",
       "0        66   140.0\n",
       "1        92   140.0\n",
       "2        75    78.0\n",
       "3        98    79.0\n",
       "4        84    80.0\n",
       "..      ...     ...\n",
       "684      81     NaN\n",
       "685     121     NaN\n",
       "686      98     NaN\n",
       "687      96     NaN\n",
       "688     118     NaN\n",
       "\n",
       "[689 rows x 2 columns]"
      ]
     },
     "execution_count": 90,
     "metadata": {},
     "output_type": "execute_result"
    }
   ],
   "source": [
    "df1 = pd.read_csv('Данные для дз5 Манн-Уитни.csv', sep = ';')\n",
    "df1"
   ]
  },
  {
   "cell_type": "code",
   "execution_count": 99,
   "id": "bc0b28c1",
   "metadata": {},
   "outputs": [
    {
     "data": {
      "image/png": "[encoded data removed]",
      "text/plain": [
       "<Figure size 432x288 with 2 Axes>"
      ]
     },
     "metadata": {
      "needs_background": "light"
     },
     "output_type": "display_data"
    }
   ],
   "source": [
    "fig, (ax11, ax22) = plt.subplots(1, 2)\n",
    "fig.suptitle('BLOOD1 and BLOOD2')\n",
    "ax11.hist(df1['BLOOD1'], bins=100, histtype='bar', ec='k') \n",
    "ax22.hist(df1['BLOOD2'], bins=100, histtype='bar', ec='k') \n",
    "ax11.set_xlabel(\"BLOOD1\")\n",
    "ax22.set_xlabel(\"BLOOD2\")\n",
    "plt.show()"
   ]
  },
  {
   "cell_type": "code",
   "execution_count": 120,
   "id": "716c2342",
   "metadata": {},
   "outputs": [
    {
     "name": "stdout",
     "output_type": "stream",
     "text": [
      "178857.0 0.24705789854836258\n",
      "Распределения равны\n"
     ]
    }
   ],
   "source": [
    "df1 = df1.dropna()\n",
    "\n",
    "def mann_whitney_func(r1, r2, alpha=0.05):\n",
    "#     mannwhitney, pvalue = stats.mannwhitneyu(r1, r2)    \n",
    "#     mannwhitney, pvalue = stats.mannwhitneyu(r1, r2 , alternative = 'greater')\n",
    "    mannwhitney, pvalue = stats.mannwhitneyu(r1, r2 , alternative = 'less')\n",
    "#     print(mannwhitney, pvalue)\n",
    "    \n",
    "    if (pvalue > alpha):\n",
    "        print('Распределения равны')\n",
    "    else:\n",
    "        print('Распределения не равны')\n",
    "    \n",
    "mann_whitney_func(df1['BLOOD1'], df1['BLOOD2'])"
   ]
  },
  {
   "cell_type": "markdown",
   "id": "a0739014",
   "metadata": {},
   "source": [
    "5. Примените к этим рядам также t-test для сравнения средних."
   ]
  },
  {
   "cell_type": "code",
   "execution_count": 123,
   "id": "f4eee4e4",
   "metadata": {},
   "outputs": [
    {
     "name": "stdout",
     "output_type": "stream",
     "text": [
      "Средние распределений равны\n"
     ]
    },
    {
     "data": {
      "text/plain": [
       "Ttest_indResult(statistic=-0.6398988386814893, pvalue=0.5223597081606046)"
      ]
     },
     "execution_count": 123,
     "metadata": {},
     "output_type": "execute_result"
    }
   ],
   "source": [
    "statistic,pvalue = stats.ttest_ind(df1['BLOOD1'], df1['BLOOD2'])\n",
    "alpha=0.05\n",
    "\n",
    "if (pvalue > alpha):\n",
    "    print('Средние распределений равны')\n",
    "else:\n",
    "    print('Средние распределений не равны')\n",
    "\n",
    "ttest"
   ]
  }
 ],
 "metadata": {
  "kernelspec": {
   "display_name": "Python 3 (ipykernel)",
   "language": "python",
   "name": "python3"
  },
  "language_info": {
   "codemirror_mode": {
    "name": "ipython",
    "version": 3
   },
   "file_extension": ".py",
   "mimetype": "text/x-python",
   "name": "python",
   "nbconvert_exporter": "python",
   "pygments_lexer": "ipython3",
   "version": "3.9.7"
  }
 },
 "nbformat": 4,
 "nbformat_minor": 5
}
