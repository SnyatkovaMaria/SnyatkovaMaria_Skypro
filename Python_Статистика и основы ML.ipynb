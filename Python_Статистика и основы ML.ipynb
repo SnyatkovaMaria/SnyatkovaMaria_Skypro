{
 "cells": [
  {
   "cell_type": "markdown",
   "metadata": {
    "id": "6ucFsBz_2a4G"
   },
   "source": [
    "<div\n",
    "  style=\"\n",
    "    padding: 36px 20px 63px 20px;\n",
    "    background-color: #009ee4;\n",
    "    border-radius: 0 0 200px 0;\n",
    "  \"\n",
    ">\n",
    "  <img\n",
    "    style=\"width: 188px; height: 40px; margin: 0\"\n",
    "    src=\"data:image/png;base64,iVBORw0KGgoAAAANSUhEUgAAAWwAAABECAYAAAClFw9WAAAACXBIWXMAABYlAAAWJQFJUiTwAAAAAXNSR0IArs4c6QAAAARnQU1BAACxjwv8YQUAAA+TSURBVHgB7Z3/edQ4E8e/4Xn/v7wVnKgAqOBMBYQKzlRAqCBLBSQVZKkgUMHuVUCoYE0F5CqY80Qy6yzr9UiWZHt3Ps9jliRa+ddoNBqNRoCiKIoyC86gKMrJQ0Tn9cf7+nhZH+fu1/f18fXs7GwNRVEUZXxqZf2JDrOqDwNFURRlPGpFfEsyNqq0FUVRRqJWwCX5cQdFURQlP7UC/kb+nEMZjaOZdHSCVGI7YSLhSz2hcg9F6SBQru5rufqCicPaF/687bq3uroCTyct+3iAbYNVX0FXdwE5VX2sJXUrmWHfWn38pDAuoCgdkPXdhrDAhHFtJoSyo76CwuB2+7LnWvsmRbvY4Mh4huOAlW7oUK2EouyBrFVnEMbfmDDO8nyAP1XH70MNn3PBd0uEYfo6g7lxLAp7iF/tDyhKfAymj687sDoQk/0C4fzZ8/ch7fuofO7HorAVRfHnA/ys7Bsoo6IKW1FOFDfh/kFY/KYufw1lVFRhK8oJUyvhZf3xvD7WHUXYAv9Ql7vEYUL84Yon/8NxUEFR4lPhBHATkK/JrmTkSTr+ZAVceeQR+YF0VJjHnIAioRa0cwpbBMCsoCgd1PJxTYHghCAbJrihMG576i4H1F3giDiqbH1kLQTT+lWJ/vAqDq5/DUXpgOzimXZ4GP//U9/3ark6uWyYZMPo2pEZ/Jz6QuuW9aN6B/+6JcbW62PKNngsLpFH3NCuan4+tt5VGYdartg9sG5+PjHj2YvdlcP1s4rm295TN06NQQrbWbQFbK/HR1c8ZePfqtzxoEvClS5o60tlmeL/S+TqwX1WTsEqShboqe8/qR70UtjOYv0LVkn75AzYVxd/8MVW9fEVNv/C7JW4e3nskzv0fJawM+8PHd8tOr5X1ceX+viYSym5a7rC4dWk6/p4F5q3gbb5Ot5goFy5+hq5+gdWrtaYObTdYICjNbqeD9/320Pvoa6H61jA7xmvMeD9HhuuTXB7GCyvO3qQ5XU9WA86p/+K0rMhmzfAIAJ1PQvBOaNNOpLfxEu55/sr4Xd7/acR72kjvKbbgLoLyidXtxTJRUbCvBmICMnzVl9j4HV34P1+3TlXCeuWUCASlF9eze41PBNcICdQOWT1xcTAWhCdFzxx2BI1wrIVwrmkDP55sp2KERb/v7Bc07FxR8lHgfQYWAt+RTPcPcW9hxLDGZJXo8CJUj//lyPJK+vBu7a8dirsuhArnxXGi38sYRuYwQxwCrQUFu+Kb/0Hcq6QHp9zfJEUIpsd8RvGUwAFbEOYRZZG2rqkpFwf+NsgV9MpQtaFlEtR7+OxvZBLYrVXYTtlvcD4GORRTIMg61/0GdZ1hTBxY6sgo0jZmXla1/duxVxfnRxiybuWTEFxBA3DR8Bn1PZR/czxcHqQ2+TY8srnf3SD/qawaTspMRUKTB9+ZkZY9qZrEsxNJH6EnJSdmU960N58FK5zWWI68GKrvixxo+LpCuFR2wJKFNyIeYHpUPA/TxS2a1R9OQNyYzBh3DNbCItXfWWdpVpBRpnCyia/3T2+CKMwdEWpBwGuEMnirwqKlMmNwNjA2LWwfYZfisVHEX0QhuP1rvpqkcLK9qlTYl2XULnyJYUrRDTPcOpMWV5347AL+NGsAOOA8Hv3c7OAoeG8dRj3ycnOm0Dz2eJ8XEZYfCnd548t1rruNWTvg61saUfQi6d1vRQqijfwg++F5ek7nspVczCNTDHGHS/c55BoiNFJ5QphGanrfgXbGbT9sgbaobZ571k+v7y60BUpqxhhZS68667vZAiEEsZhk9+eeBvydF2QX8zsApEgvzhTI6xTut/mpj4uaODO3GSTgUmSNgX5sClhHLa79g3JMRgIydrJBgHQzOKwyT5/Kd8ojh7kcy4F53viEjHC+tmqipJQxVln/2Ke+Ch679l793zXwuLvaaCSY2ibakCCyLp2dUquraqPVzwKGTpacN8ftlpsPDQqZFyk1i7L6atIenDXK9FJiMKOvU1QX+OsMDHI3xWyRBjSiBFWiJcYjo/vWnptRljuJvJy+5h1ZYH8Jv01KiQNUsMntx5kxf7jmc8XHIMtuR36/LpfMSHIPyrEJ0zvCTmtbHdfpbD40sOyk8rVkE1c97HG4c6eFV7KpPsh+IzaNCXwuBSIyxKH2wr/PShbH/ucPwywGp/gJth4IqTE0x3M2VVSTWkfOacQk7pC9sBRGN8E5Rore4EwpNZ1Bb9OSKqwefKU33dwB9fGTbCxUivxe/Y0nhxaYkKQ9eMaYXF1haSjEpa7qt/ZQyz91JoQLnFAXn8lWHcWls/EQgVrxbAFXE0x0x7Zybg+RcTXLdmIlH1bPgtkREnZJfCEBGQLWVg5Pvd1LXi++4++Q/G6/p+Qj8z42nnU1WTam6JcFRAmzxeUMbDvtoAMbmvPERFhOwk6L9lJ/aKnWFBb4Vk4QTGv+TZnlP2EnAoZ9eAvC5t7bLJpKaVOdwPbG/DRpAmsWkc71O/+LFM60AD4fmMv6qgwwBWyhwVsaFyf0gu1sn2s6yX8+Qx5qFSTapWPRq6aSUT+/I6WnE3c0kyxWEhdIQlxlu4a8g7UQK4HB8vrrkuEHelDVvgYdFigZHeeqNzRxCveH+nQ7kPM+3KdKb8biWJlX/a1tIP09F2HDsXZYvaNbW3DSrxw/79o/4G2+YQbpc6W+SRHfBFQV0ge2NgqEI5Btx7kjyb/NR/D5JXy5Htts6GIuYp37kUSXxqbBRJANlZTGs+88Kj3VlhnUBxu6zzBm9kGws+K51vYNx51opyG5ZUO5Q6JII3D3lf3kvKyIdsWLw5d175sfexLqpAPg20qVb7oK5pfHuwGb/+uFGcxS0OJRBEj5GldYwD19bOr5jPywffPws/KoGkMBvOEra8o8yGKGJbXnKM0A9sW78hnAwM35GI/2RhDSgPrf2XlXWJ+vKDI1twO15BFXTS+7D7EvusYUUF1HSXix69KaPzijwYB5kd7WbOSAWcgsR7MaWQ0GFh5/bYrr3vzYbPS5lU8sNETFfJj6oN7mGxbYUWCLbpVKqUd08rOaV23cZZ27lFcmwUFpAoYGYMZbeZxLHB7c0bGWPLK7Zfl9a5pywe3CHMxhtzLjHXBvBXWkEnQMXiJtKkZY1nZWa3rNlyfCxFjuRprJJesY02Ewfyu+SjYkdcK+WFD8HEO41lfSWdtNxfMypstvDXyUc7QPcIJjCQuCW+clS2JG2f2RmaMZV3v4uSKR3IsW3xPa+RbUm4wg92MdjCYz045R0dLD7LMcrtYIx880b04QyCup3+JbZpUXlp8jm0K1Zjw0ES8yWsDyRYENOFgfTT3K4XrfZUqDIvsrL0RFH23ayE7V5OkQ1lzoi9khuz+dQb2eTdy9RJp/LjPfd8RyRfOrCHD997eSlP1SiBdODMIJw+NzP6JbVhfdD0YsjT9EWfprbFHKFvKvPlsbsJX6TVwSFuR6MHfS5USbZPzSGKK+V7ZGkql8NgilYR6cUNcNj+4e7iAjGTW9SFcTCofT5SSkyuzc7QVegglEm0F5dPZuRGZdM6G53eOdQ3D7OjK+bOjBw2Gy+s47jCyubcvyS/v7zU8oUT5sMkvpjiJa8Rdx0p4DUXrO6XwO7MbepOVK76/3hzrLULevygOG56QbRPJrvvAeTUOewRoK68r4b3Qvkq4AqkFFuOipYtbvIeAlE5h+yaZD7X++q5DuoBj1frORvgdg4i4a72gTJEOJH82PnkjvOpGAOTX2UQxBkgV9r66LyivvIo6690vrVp/21C+i91QPyGKNYnCdnX7rHbbUKLZffKwsmkk65rsYqj2syiRARKuVoMnlH7HGemKVi5nMBBShb1b76f2fVM+ef3WdzPPWoULPJ0cMMi3QixXZEA0nN9KGhNtkC4iQepnvoL8GqL5run3/OH8M8vUXQa5+gMzw80NSSfgmnkSJRL0+yYS/PPtVPRgO6yvqzGX2Cru6EP7uk6ewEviMsjAAvK4zEtK4E87k29yUEAWVbKMPJl1ceD3G6e4C0TGNS6JXE3OWHARIFIXIFv7yeZJThCJHiwQGadbC2lhQ3I2bsggq7z7nDz0u5KfdjqTjjvnGN01QnGTERlEhOQ+cy53SwM34SUrV9w5St0Kk5l03HMfG5IxyDVC6hJp6vPVg7dkZWGovF6RUF6bsD6fHtq48two+GcOv6rwNE8x84Dft3jn73JYi7w32eI96ZgDt2MOu0YkoX4GtgeXLnzxuQbOefA3hnET07omO3lthMW5XIltXmFfueLPv2DlyqcBTWoLugaXl5ldI5IOhe+XQzxfQRlC4VHWYJi8NnrQKwa/Udh/IpzmpBdIR5U6+H0InB+jfmGsLCRDcC77NcH9LDBMYVewy95jMsTVlUOumEkaAoynMcAhYp/q70Q1Bk6MAuFk0YOND/s7ps0oCzg88VmpdUuRXSPOMh7ynD4nWIixxrS5OZv+4pMFRp4nOSHuMW1uGoXNllWFaXITO/lQCtzqPKl1Y5Bmdp/fY8gkWoX41rXPhOgYVEi0wjEmnlEjTHRj4IRYYrpKm9NEXD8q7Fbu1zWmxWeXjnMWuOyGa2HxC4q8QMkz/Wqbj2eJ9tx0y7OnNkKqYHNMJLnn2EwohPSoGTkH9iG4E3nL//kV1uey8o2ZSnWXG5eLdm7w85MqghTWkK+VHT196i5uFx6eEKswPmtYZV1hXiygrpHkTCAH9i7cefwyLvbtODN27lfuTV7PybJu4+lLZmVdIiIBVnYW65ddRi25WiM//Fx4c+Q5KusQ14hP+6kEZUJHIz8EZf7FxJiAHqxgszKWXiNBF2e4JL/cGSGsYlsFJIuXje67dedekYwFIkM2qYyEoNjaSNfIMa+cRGtDaeHlvhxnHG0kQzZ2to9oyZl2zi2JmfY6P8naSWistOR6SwRAsjZmEAGybSqXHiwphrySfbE83Go2ihxCs6v1JSWcJCGrFH52nH9FiZabkm3USzocEJ/k/CTfCb3EBCCrvEsnD735FHpo3isrigKJcPVvOq6Bz2+QCHfuQ8+J/+YVUnngfga1EzrcDvh3CwRCVm66nsOGEq0ApW220Zjyeil5xsEbGLgL3833yp/7Yrp5yMNmfdUccxyWzgGSJ9cPSkifA/o977VErvhTc0Qr2QnUg0HyOkhhK3lpCYbpKPIG8sD95DtxKIqinCRu+CfNj9FHEv+qoiiKgl+++FgYKIoyO3p3TVcmwwvEYal+XkWZJ6qwT4sK88jLoijKHlRhnxbv1LpWlPmiCvt0eKdRIYoyb1RhzwfJEt99VLAhfEsoiqIo6SG7usonrG9FiVeRKoqSl/8AxhYxB2jKXgcAAAAASUVORK5CYII=\"\n",
    "  />\n",
    "\n",
    "  <div\n",
    "    style=\"\n",
    "      color: white;\n",
    "      margin-top: 32px;\n",
    "      font-size: 56px;\n",
    "      line-height: 64px;\n",
    "      font-family: Arial;\n",
    "    \"\n",
    "  >\n",
    "Курсовая работа в Python \n",
    "     \n",
    "  </div>\n",
    "</div>\n",
    "\n"
   ]
  },
  {
   "cell_type": "markdown",
   "metadata": {
    "id": "hHMIThkJ2a4K"
   },
   "source": [
    "# Условие проекта\n",
    "\n",
    "В компании SkyCrossroads есть рекламная акция, в соответствии с которой клиенту дается возможность получить дополнительные баллы лояльности за покупку, совершенную в течение ограниченного периода времени после запуска акции. \n",
    "\n",
    "Классическая акция подразумевает получение дополнительные 1000 баллов лояльности за покупку от 100 рублей. Было решено запустить АБ Тест, в котором в тестовой группе предлагается в два раза больше баллов лояльности за покупку от 100 рублей. \n",
    "\n",
    "Эксперимент был проведен в нескольких торговых точках, которые в датасете представлены столбцом id_point. Также в датасете есть информация о том, как долго клиент зарегистрирован у нас в программе лояльности.\n",
    "\n",
    "Отдел маркетинга попросил вас рассчитать результаты этого эксперимента (в целом и в отдельности по каждой точке) и вынести решение об эффективности воздействия Б по сравнению с воздействием А. Также они хотят получить сегментацию пользователей с точки зрения из длительности регистрации."
   ]
  },
  {
   "cell_type": "markdown",
   "metadata": {
    "id": "DvoQRVs72a4c"
   },
   "source": [
    "# 1. Общий анализ АБ Теста"
   ]
  },
  {
   "cell_type": "code",
   "execution_count": 2,
   "metadata": {},
   "outputs": [],
   "source": [
    "import pandas as pd\n",
    "import seaborn as sns\n",
    "import matplotlib.pyplot as plt\n",
    "import numpy as np\n",
    "from scipy import stats\n",
    "import scipy.stats as stats\n",
    "from scipy.stats import ttest_ind"
   ]
  },
  {
   "cell_type": "code",
   "execution_count": 3,
   "metadata": {},
   "outputs": [
    {
     "data": {
      "text/html": [
       "<div>\n",
       "<style scoped>\n",
       "    .dataframe tbody tr th:only-of-type {\n",
       "        vertical-align: middle;\n",
       "    }\n",
       "\n",
       "    .dataframe tbody tr th {\n",
       "        vertical-align: top;\n",
       "    }\n",
       "\n",
       "    .dataframe thead th {\n",
       "        text-align: right;\n",
       "    }\n",
       "</style>\n",
       "<table border=\"1\" class=\"dataframe\">\n",
       "  <thead>\n",
       "    <tr style=\"text-align: right;\">\n",
       "      <th></th>\n",
       "      <th>id_client</th>\n",
       "      <th>id_group</th>\n",
       "      <th>sum_pay</th>\n",
       "      <th>id_point</th>\n",
       "      <th>months_reg</th>\n",
       "    </tr>\n",
       "  </thead>\n",
       "  <tbody>\n",
       "    <tr>\n",
       "      <th>0</th>\n",
       "      <td>1420218</td>\n",
       "      <td>test</td>\n",
       "      <td>3288.0</td>\n",
       "      <td>1199.0</td>\n",
       "      <td>8</td>\n",
       "    </tr>\n",
       "    <tr>\n",
       "      <th>1</th>\n",
       "      <td>1390221</td>\n",
       "      <td>control</td>\n",
       "      <td>1267.0</td>\n",
       "      <td>1182.0</td>\n",
       "      <td>11</td>\n",
       "    </tr>\n",
       "    <tr>\n",
       "      <th>2</th>\n",
       "      <td>1363404</td>\n",
       "      <td>control</td>\n",
       "      <td>4259.0</td>\n",
       "      <td>1178.0</td>\n",
       "      <td>2</td>\n",
       "    </tr>\n",
       "    <tr>\n",
       "      <th>3</th>\n",
       "      <td>1370042</td>\n",
       "      <td>test</td>\n",
       "      <td>7211.0</td>\n",
       "      <td>1179.0</td>\n",
       "      <td>3</td>\n",
       "    </tr>\n",
       "    <tr>\n",
       "      <th>4</th>\n",
       "      <td>1360376</td>\n",
       "      <td>control</td>\n",
       "      <td>760.0</td>\n",
       "      <td>1178.0</td>\n",
       "      <td>14</td>\n",
       "    </tr>\n",
       "    <tr>\n",
       "      <th>...</th>\n",
       "      <td>...</td>\n",
       "      <td>...</td>\n",
       "      <td>...</td>\n",
       "      <td>...</td>\n",
       "      <td>...</td>\n",
       "    </tr>\n",
       "    <tr>\n",
       "      <th>10971</th>\n",
       "      <td>1359021</td>\n",
       "      <td>control</td>\n",
       "      <td>799.0</td>\n",
       "      <td>1178.0</td>\n",
       "      <td>3</td>\n",
       "    </tr>\n",
       "    <tr>\n",
       "      <th>10972</th>\n",
       "      <td>1363347</td>\n",
       "      <td>control</td>\n",
       "      <td>4825.0</td>\n",
       "      <td>1178.0</td>\n",
       "      <td>6</td>\n",
       "    </tr>\n",
       "    <tr>\n",
       "      <th>10973</th>\n",
       "      <td>1373031</td>\n",
       "      <td>test</td>\n",
       "      <td>673.0</td>\n",
       "      <td>1179.0</td>\n",
       "      <td>1</td>\n",
       "    </tr>\n",
       "    <tr>\n",
       "      <th>10974</th>\n",
       "      <td>1370292</td>\n",
       "      <td>test</td>\n",
       "      <td>1120.0</td>\n",
       "      <td>1179.0</td>\n",
       "      <td>1</td>\n",
       "    </tr>\n",
       "    <tr>\n",
       "      <th>10975</th>\n",
       "      <td>1370038</td>\n",
       "      <td>test</td>\n",
       "      <td>5348.0</td>\n",
       "      <td>1179.0</td>\n",
       "      <td>8</td>\n",
       "    </tr>\n",
       "  </tbody>\n",
       "</table>\n",
       "<p>10976 rows × 5 columns</p>\n",
       "</div>"
      ],
      "text/plain": [
       "       id_client id_group  sum_pay  id_point  months_reg\n",
       "0        1420218     test   3288.0    1199.0           8\n",
       "1        1390221  control   1267.0    1182.0          11\n",
       "2        1363404  control   4259.0    1178.0           2\n",
       "3        1370042     test   7211.0    1179.0           3\n",
       "4        1360376  control    760.0    1178.0          14\n",
       "...          ...      ...      ...       ...         ...\n",
       "10971    1359021  control    799.0    1178.0           3\n",
       "10972    1363347  control   4825.0    1178.0           6\n",
       "10973    1373031     test    673.0    1179.0           1\n",
       "10974    1370292     test   1120.0    1179.0           1\n",
       "10975    1370038     test   5348.0    1179.0           8\n",
       "\n",
       "[10976 rows x 5 columns]"
      ]
     },
     "execution_count": 3,
     "metadata": {},
     "output_type": "execute_result"
    }
   ],
   "source": [
    "#1.1. Создайте питоновский ноутбук и импортните csv файл.\n",
    "\n",
    "df = pd.read_csv('Dataset_AB_TEST.csv', sep = ';')\n",
    "df"
   ]
  },
  {
   "cell_type": "markdown",
   "metadata": {},
   "source": [
    "**Расшифровка данных:**\n",
    "\n",
    "**id_client** - уникальный id клиента\n",
    "\n",
    "**id_group** - контроль (1000 баллов лояльности) / тест (2000 баллов лояльности)\n",
    "\n",
    "**sum_pay** - сумма, на которую была совершена покупка\n",
    "\n",
    "**id_point** - id торговой точки\n",
    "\n",
    "**months_reg** - длительность регистрации клиента в программе лояльности"
   ]
  },
  {
   "cell_type": "code",
   "execution_count": 4,
   "metadata": {
    "scrolled": true
   },
   "outputs": [
    {
     "data": {
      "text/html": [
       "<div>\n",
       "<style scoped>\n",
       "    .dataframe tbody tr th:only-of-type {\n",
       "        vertical-align: middle;\n",
       "    }\n",
       "\n",
       "    .dataframe tbody tr th {\n",
       "        vertical-align: top;\n",
       "    }\n",
       "\n",
       "    .dataframe thead th {\n",
       "        text-align: right;\n",
       "    }\n",
       "</style>\n",
       "<table border=\"1\" class=\"dataframe\">\n",
       "  <thead>\n",
       "    <tr style=\"text-align: right;\">\n",
       "      <th></th>\n",
       "      <th>id_client</th>\n",
       "      <th>id_group</th>\n",
       "      <th>sum_pay</th>\n",
       "      <th>id_point</th>\n",
       "      <th>months_reg</th>\n",
       "    </tr>\n",
       "  </thead>\n",
       "  <tbody>\n",
       "    <tr>\n",
       "      <th>0</th>\n",
       "      <td>1420218</td>\n",
       "      <td>test</td>\n",
       "      <td>3288.0</td>\n",
       "      <td>1199.0</td>\n",
       "      <td>8</td>\n",
       "    </tr>\n",
       "    <tr>\n",
       "      <th>1</th>\n",
       "      <td>1390221</td>\n",
       "      <td>control</td>\n",
       "      <td>1267.0</td>\n",
       "      <td>1182.0</td>\n",
       "      <td>11</td>\n",
       "    </tr>\n",
       "    <tr>\n",
       "      <th>2</th>\n",
       "      <td>1363404</td>\n",
       "      <td>control</td>\n",
       "      <td>4259.0</td>\n",
       "      <td>1178.0</td>\n",
       "      <td>2</td>\n",
       "    </tr>\n",
       "    <tr>\n",
       "      <th>3</th>\n",
       "      <td>1370042</td>\n",
       "      <td>test</td>\n",
       "      <td>7211.0</td>\n",
       "      <td>1179.0</td>\n",
       "      <td>3</td>\n",
       "    </tr>\n",
       "    <tr>\n",
       "      <th>4</th>\n",
       "      <td>1360376</td>\n",
       "      <td>control</td>\n",
       "      <td>760.0</td>\n",
       "      <td>1178.0</td>\n",
       "      <td>14</td>\n",
       "    </tr>\n",
       "    <tr>\n",
       "      <th>...</th>\n",
       "      <td>...</td>\n",
       "      <td>...</td>\n",
       "      <td>...</td>\n",
       "      <td>...</td>\n",
       "      <td>...</td>\n",
       "    </tr>\n",
       "    <tr>\n",
       "      <th>10971</th>\n",
       "      <td>1359021</td>\n",
       "      <td>control</td>\n",
       "      <td>799.0</td>\n",
       "      <td>1178.0</td>\n",
       "      <td>3</td>\n",
       "    </tr>\n",
       "    <tr>\n",
       "      <th>10972</th>\n",
       "      <td>1363347</td>\n",
       "      <td>control</td>\n",
       "      <td>4825.0</td>\n",
       "      <td>1178.0</td>\n",
       "      <td>6</td>\n",
       "    </tr>\n",
       "    <tr>\n",
       "      <th>10973</th>\n",
       "      <td>1373031</td>\n",
       "      <td>test</td>\n",
       "      <td>673.0</td>\n",
       "      <td>1179.0</td>\n",
       "      <td>1</td>\n",
       "    </tr>\n",
       "    <tr>\n",
       "      <th>10974</th>\n",
       "      <td>1370292</td>\n",
       "      <td>test</td>\n",
       "      <td>1120.0</td>\n",
       "      <td>1179.0</td>\n",
       "      <td>1</td>\n",
       "    </tr>\n",
       "    <tr>\n",
       "      <th>10975</th>\n",
       "      <td>1370038</td>\n",
       "      <td>test</td>\n",
       "      <td>5348.0</td>\n",
       "      <td>1179.0</td>\n",
       "      <td>8</td>\n",
       "    </tr>\n",
       "  </tbody>\n",
       "</table>\n",
       "<p>10840 rows × 5 columns</p>\n",
       "</div>"
      ],
      "text/plain": [
       "       id_client id_group  sum_pay  id_point  months_reg\n",
       "0        1420218     test   3288.0    1199.0           8\n",
       "1        1390221  control   1267.0    1182.0          11\n",
       "2        1363404  control   4259.0    1178.0           2\n",
       "3        1370042     test   7211.0    1179.0           3\n",
       "4        1360376  control    760.0    1178.0          14\n",
       "...          ...      ...      ...       ...         ...\n",
       "10971    1359021  control    799.0    1178.0           3\n",
       "10972    1363347  control   4825.0    1178.0           6\n",
       "10973    1373031     test    673.0    1179.0           1\n",
       "10974    1370292     test   1120.0    1179.0           1\n",
       "10975    1370038     test   5348.0    1179.0           8\n",
       "\n",
       "[10840 rows x 5 columns]"
      ]
     },
     "execution_count": 4,
     "metadata": {},
     "output_type": "execute_result"
    }
   ],
   "source": [
    "#1.2. Проведите очистку данных от нуллов и выбросов (используйте функцию ***statistical_analysis***).\n",
    "\n",
    "# Очистка данных от нуллов\n",
    "df_clean = df.dropna()\n",
    "df_clean"
   ]
  },
  {
   "cell_type": "code",
   "execution_count": 5,
   "metadata": {},
   "outputs": [],
   "source": [
    "#Поиск выбросов"
   ]
  },
  {
   "cell_type": "code",
   "execution_count": 6,
   "metadata": {},
   "outputs": [
    {
     "data": {
      "text/plain": [
       "months_reg\n",
       "0      795\n",
       "1      798\n",
       "2     1352\n",
       "3     1690\n",
       "4     1078\n",
       "5     1205\n",
       "6     1245\n",
       "7      652\n",
       "8      669\n",
       "9      312\n",
       "10     329\n",
       "11     335\n",
       "12     219\n",
       "13      78\n",
       "14      83\n",
       "Name: id_client, dtype: int64"
      ]
     },
     "execution_count": 6,
     "metadata": {},
     "output_type": "execute_result"
    },
    {
     "data": {
      "image/png": "[encoded data removed]",
      "text/plain": [
       "<Figure size 432x288 with 1 Axes>"
      ]
     },
     "metadata": {
      "needs_background": "light"
     },
     "output_type": "display_data"
    }
   ],
   "source": [
    "# Группировка по длительности регистрации клиента в программе лояльности\n",
    "sns.histplot(df_clean['months_reg'])\n",
    "df_clean.groupby('months_reg')['id_client'].count()"
   ]
  },
  {
   "cell_type": "code",
   "execution_count": 7,
   "metadata": {},
   "outputs": [
    {
     "data": {
      "text/plain": [
       "id_group\n",
       "control    5171\n",
       "test       5669\n",
       "Name: id_client, dtype: int64"
      ]
     },
     "execution_count": 7,
     "metadata": {},
     "output_type": "execute_result"
    },
    {
     "data": {
      "image/png": "[encoded data removed]",
      "text/plain": [
       "<Figure size 432x288 with 1 Axes>"
      ]
     },
     "metadata": {
      "needs_background": "light"
     },
     "output_type": "display_data"
    }
   ],
   "source": [
    "# Группировка по Тест- и Контроль-группам\n",
    "sns.histplot(df_clean['id_group'])\n",
    "df_clean.groupby('id_group')['id_client'].count()"
   ]
  },
  {
   "cell_type": "code",
   "execution_count": 8,
   "metadata": {},
   "outputs": [
    {
     "data": {
      "text/plain": [
       "sum_pay\n",
       "59.0       1\n",
       "65.0       1\n",
       "67.0       1\n",
       "73.0       1\n",
       "75.0       1\n",
       "          ..\n",
       "24618.0    1\n",
       "24645.0    1\n",
       "24761.0    1\n",
       "24784.0    1\n",
       "24797.0    1\n",
       "Name: id_client, Length: 5915, dtype: int64"
      ]
     },
     "execution_count": 8,
     "metadata": {},
     "output_type": "execute_result"
    },
    {
     "data": {
      "image/png": "[encoded data removed]",
      "text/plain": [
       "<Figure size 432x288 with 1 Axes>"
      ]
     },
     "metadata": {
      "needs_background": "light"
     },
     "output_type": "display_data"
    }
   ],
   "source": [
    "# Суммы оплат клиентов и гистограмма распределения сумм, на которые были совершены покупки.\n",
    "sns.histplot(df_clean['sum_pay'])\n",
    "df_clean.groupby('sum_pay')['id_client'].count()"
   ]
  },
  {
   "cell_type": "code",
   "execution_count": 9,
   "metadata": {},
   "outputs": [
    {
     "data": {
      "text/plain": [
       "id_point\n",
       "1178.0    4810\n",
       "1179.0    3471\n",
       "1182.0    2010\n",
       "1186.0      63\n",
       "1188.0      10\n",
       "1199.0     476\n",
       "Name: id_client, dtype: int64"
      ]
     },
     "execution_count": 9,
     "metadata": {},
     "output_type": "execute_result"
    }
   ],
   "source": [
    "# Группировка уникальных покупателей по торговым точкам.\n",
    "df_clean.groupby('id_point')['id_client'].count()"
   ]
  },
  {
   "cell_type": "code",
   "execution_count": 10,
   "metadata": {},
   "outputs": [],
   "source": [
    "# Выбросы обнаружены в 'sum_pay'."
   ]
  },
  {
   "cell_type": "code",
   "execution_count": 11,
   "metadata": {},
   "outputs": [
    {
     "data": {
      "text/html": [
       "<div>\n",
       "<style scoped>\n",
       "    .dataframe tbody tr th:only-of-type {\n",
       "        vertical-align: middle;\n",
       "    }\n",
       "\n",
       "    .dataframe tbody tr th {\n",
       "        vertical-align: top;\n",
       "    }\n",
       "\n",
       "    .dataframe thead th {\n",
       "        text-align: right;\n",
       "    }\n",
       "</style>\n",
       "<table border=\"1\" class=\"dataframe\">\n",
       "  <thead>\n",
       "    <tr style=\"text-align: right;\">\n",
       "      <th></th>\n",
       "      <th>id_client</th>\n",
       "      <th>id_group</th>\n",
       "      <th>sum_pay</th>\n",
       "      <th>id_point</th>\n",
       "      <th>months_reg</th>\n",
       "    </tr>\n",
       "  </thead>\n",
       "  <tbody>\n",
       "    <tr>\n",
       "      <th>0</th>\n",
       "      <td>1420218</td>\n",
       "      <td>test</td>\n",
       "      <td>3288.0</td>\n",
       "      <td>1199.0</td>\n",
       "      <td>8</td>\n",
       "    </tr>\n",
       "    <tr>\n",
       "      <th>1</th>\n",
       "      <td>1390221</td>\n",
       "      <td>control</td>\n",
       "      <td>1267.0</td>\n",
       "      <td>1182.0</td>\n",
       "      <td>11</td>\n",
       "    </tr>\n",
       "    <tr>\n",
       "      <th>2</th>\n",
       "      <td>1363404</td>\n",
       "      <td>control</td>\n",
       "      <td>4259.0</td>\n",
       "      <td>1178.0</td>\n",
       "      <td>2</td>\n",
       "    </tr>\n",
       "    <tr>\n",
       "      <th>3</th>\n",
       "      <td>1370042</td>\n",
       "      <td>test</td>\n",
       "      <td>7211.0</td>\n",
       "      <td>1179.0</td>\n",
       "      <td>3</td>\n",
       "    </tr>\n",
       "    <tr>\n",
       "      <th>4</th>\n",
       "      <td>1360376</td>\n",
       "      <td>control</td>\n",
       "      <td>760.0</td>\n",
       "      <td>1178.0</td>\n",
       "      <td>14</td>\n",
       "    </tr>\n",
       "    <tr>\n",
       "      <th>...</th>\n",
       "      <td>...</td>\n",
       "      <td>...</td>\n",
       "      <td>...</td>\n",
       "      <td>...</td>\n",
       "      <td>...</td>\n",
       "    </tr>\n",
       "    <tr>\n",
       "      <th>10971</th>\n",
       "      <td>1359021</td>\n",
       "      <td>control</td>\n",
       "      <td>799.0</td>\n",
       "      <td>1178.0</td>\n",
       "      <td>3</td>\n",
       "    </tr>\n",
       "    <tr>\n",
       "      <th>10972</th>\n",
       "      <td>1363347</td>\n",
       "      <td>control</td>\n",
       "      <td>4825.0</td>\n",
       "      <td>1178.0</td>\n",
       "      <td>6</td>\n",
       "    </tr>\n",
       "    <tr>\n",
       "      <th>10973</th>\n",
       "      <td>1373031</td>\n",
       "      <td>test</td>\n",
       "      <td>673.0</td>\n",
       "      <td>1179.0</td>\n",
       "      <td>1</td>\n",
       "    </tr>\n",
       "    <tr>\n",
       "      <th>10974</th>\n",
       "      <td>1370292</td>\n",
       "      <td>test</td>\n",
       "      <td>1120.0</td>\n",
       "      <td>1179.0</td>\n",
       "      <td>1</td>\n",
       "    </tr>\n",
       "    <tr>\n",
       "      <th>10975</th>\n",
       "      <td>1370038</td>\n",
       "      <td>test</td>\n",
       "      <td>5348.0</td>\n",
       "      <td>1179.0</td>\n",
       "      <td>8</td>\n",
       "    </tr>\n",
       "  </tbody>\n",
       "</table>\n",
       "<p>10746 rows × 5 columns</p>\n",
       "</div>"
      ],
      "text/plain": [
       "       id_client id_group  sum_pay  id_point  months_reg\n",
       "0        1420218     test   3288.0    1199.0           8\n",
       "1        1390221  control   1267.0    1182.0          11\n",
       "2        1363404  control   4259.0    1178.0           2\n",
       "3        1370042     test   7211.0    1179.0           3\n",
       "4        1360376  control    760.0    1178.0          14\n",
       "...          ...      ...      ...       ...         ...\n",
       "10971    1359021  control    799.0    1178.0           3\n",
       "10972    1363347  control   4825.0    1178.0           6\n",
       "10973    1373031     test    673.0    1179.0           1\n",
       "10974    1370292     test   1120.0    1179.0           1\n",
       "10975    1370038     test   5348.0    1179.0           8\n",
       "\n",
       "[10746 rows x 5 columns]"
      ]
     },
     "execution_count": 11,
     "metadata": {},
     "output_type": "execute_result"
    },
    {
     "data": {
      "image/png": "[encoded data removed]",
      "text/plain": [
       "<Figure size 432x288 with 1 Axes>"
      ]
     },
     "metadata": {
      "needs_background": "light"
     },
     "output_type": "display_data"
    }
   ],
   "source": [
    "# Очистим данные от выбросов.\n",
    "df_clean = df_clean.loc[df_clean['sum_pay'] < 10000]\n",
    "sns.histplot(df_clean['sum_pay'])\n",
    "df_clean"
   ]
  },
  {
   "cell_type": "code",
   "execution_count": 165,
   "metadata": {},
   "outputs": [],
   "source": [
    "#1.3. Проведите визуализацию с помощью гистограммы для сравнения результатов в А и Б группе (имеет смысл создать отдельную функцию для визуализации ***show_hist***).\n",
    "\n",
    "# Фильтр по Тест-группе\n",
    "id_group_test = df_clean.loc[df_clean['id_group'] == 'test']\n",
    "# id_group_test"
   ]
  },
  {
   "cell_type": "code",
   "execution_count": 166,
   "metadata": {},
   "outputs": [],
   "source": [
    "# Фильтр по Контроль-группе\n",
    "id_group_control = df_clean.loc[df_clean['id_group'] == 'control']\n",
    "# id_group_control"
   ]
  },
  {
   "cell_type": "code",
   "execution_count": 173,
   "metadata": {},
   "outputs": [],
   "source": [
    "# Функция визуализации\n",
    "def show_hist(r1, r2):\n",
    "    min_size = min(len(r1),len(r2))\n",
    "    sns.histplot(r1.sample(min_size), label='Тест-группа')\n",
    "    sns.histplot(r2.sample(min_size), color = 'coral', label='Контроль-группа')\n",
    "    plt.legend()\n",
    "    plt.show()\n",
    "    \n",
    "# в функции\n",
    "# show_hist(id_group_test['sum_pay'], id_group_control['sum_pay'])\n",
    "# show_hist(id_group_test['months_reg'], id_group_control['months_reg'])"
   ]
  },
  {
   "cell_type": "code",
   "execution_count": 174,
   "metadata": {},
   "outputs": [],
   "source": [
    "# Функция для поиска среднего, дисперсии и стандартного отклонения.\n",
    "\n",
    "def sum_pay_test(id_group_test, id_group_control):\n",
    "    # sum_pay_test\n",
    "    mean_sum_pay_test = id_group_test.mean()\n",
    "    var_sum_pay_test = id_group_test.var()\n",
    "    std_sum_pay_test = id_group_test.std()\n",
    "\n",
    "    # sum_pay_control\n",
    "    mean_sum_pay_control = id_group_control.mean()\n",
    "    var_sum_pay_control = id_group_control.var()\n",
    "    std_sum_pay_control = id_group_control.std()\n",
    "\n",
    "    print(\"Средняя сумма покупки в Тест-группе:\", mean_sum_pay_test.sum_pay)\n",
    "    print(\"Средняя сумма покупки в Контроль-группе:\", mean_sum_pay_control.sum_pay)\n",
    "    print(' ')\n",
    "    print(\"Средняя длительность регистрации клиента в программе лояльности в Тест-группе:\", mean_sum_pay_test.months_reg)\n",
    "    print(\"Средняя длительность регистрации клиента в программе лояльности в Контроль-группе:\", mean_sum_pay_control.months_reg)\n",
    "    print('')\n",
    "\n",
    "    print('---------------------------')\n",
    "\n",
    "\n",
    "    print(\"Дисперсия суммы покупки в Тест-группе:\", var_sum_pay_test.sum_pay)\n",
    "    print(\"Дисперсия суммы покупки в Контроль-группе:\", var_sum_pay_control.sum_pay)\n",
    "    print(' ')\n",
    "    print(\"Дисперсия длительности регистрации клиента в программе лояльности в Тест-группе:\", var_sum_pay_test.months_reg)\n",
    "    print(\"Дисперсия длительности регистрации клиента в программе лояльности в Контроль-группе:\", var_sum_pay_control.months_reg)\n",
    "    print('')\n",
    "\n",
    "    print('---------------------------')\n",
    "\n",
    "\n",
    "    print(\"Стандартное отклонение суммы покупки в Тест-группе:\", std_sum_pay_test.sum_pay)\n",
    "    print(\"Стандартное отклонение суммы покупки в Контроль-группе:\", std_sum_pay_control.sum_pay)\n",
    "    print(' ')\n",
    "    print(\"Стандартное отклонение регистрации клиента в программе лояльности в Тест-группе:\", std_sum_pay_test.months_reg)\n",
    "    print(\"Стандартное отклонение регистрации клиента в программе лояльности в Контроль-группе:\", std_sum_pay_control.months_reg)\n",
    "\n",
    "# в функции\n",
    "# sum_pay_test(id_group_test, id_group_control)\n",
    "\n",
    "#пример исп-ия\n",
    "#print('id_point 1178')\n",
    "# sum_pay_test(id_group_test.loc[id_group_test['id_point'] == 1178], id_group_control.loc[id_group_control['id_point'] == 1178])\n",
    "#print('')\n",
    "#print('-------------------')"
   ]
  },
  {
   "cell_type": "code",
   "execution_count": 175,
   "metadata": {},
   "outputs": [],
   "source": [
    "# 1.4. Посмотрите на результаты параметрического и непараметрического теста (используйте функции ***mann_whitney_func*** и ***test_calc***)."
   ]
  },
  {
   "cell_type": "code",
   "execution_count": 176,
   "metadata": {},
   "outputs": [],
   "source": [
    "# Mann_whitney_func\n",
    "\n",
    "def mann_whitney_func(r1, r2, alpha=0.05):\n",
    "    mannwhitney, pvalue = stats.mannwhitneyu(r1, r2 , alternative = 'less')\n",
    "\n",
    "    if (pvalue > alpha):\n",
    "        print('Распределения равны')\n",
    "    else:\n",
    "        print('Распределения не равны')  \n",
    "    print(' ')\n",
    "    print('----------------')\n",
    "\n",
    "# в функции\n",
    "# print('Манн-Уитни по суммам, на которые была совершена покупка в Тест- и Контроль-группах')    \n",
    "# mann_whitney_func(id_group_test['sum_pay'], id_group_control['sum_pay'])"
   ]
  },
  {
   "cell_type": "code",
   "execution_count": 177,
   "metadata": {},
   "outputs": [],
   "source": [
    "# T-test (для сравнения средних)\n",
    "\n",
    "def ttest(r1, r2):\n",
    "    statistic,pvalue = stats.ttest_ind(r1, r2)\n",
    "    alpha=0.05\n",
    "    print('T-test')  \n",
    "    if (pvalue > alpha):\n",
    "        print('Средние распределений равны')\n",
    "    else:\n",
    "        print('Средние распределений не равны')\n",
    "        \n",
    "    print(statistic, pvalue)\n",
    "    print(' ')\n",
    "    print('----------------')\n",
    "\n",
    "# в функции\n",
    "# ttest(id_group_control['sum_pay'], id_group_test['sum_pay'])"
   ]
  },
  {
   "cell_type": "code",
   "execution_count": 178,
   "metadata": {},
   "outputs": [],
   "source": [
    "#test_calc\n",
    "\n",
    "def test_calc(r1, r2, alpha=0.05):\n",
    "    s,p = ttest_ind(r1, r2)\n",
    "#     print(s)\n",
    "#     print(p)\n",
    "    print('test_calc')     \n",
    "    if (p < alpha):\n",
    "        print ('Нулевая гипотеза принимается')\n",
    "    else:\n",
    "        print ('Нулевая гипотеза не принимается')\n",
    "    return s,p\n",
    "\n",
    "    print(' ')\n",
    "    print('----------------')\n",
    " \n",
    "    # в функции\n",
    "# test_calc(id_group_test['sum_pay'], id_group_control['sum_pay'])"
   ]
  },
  {
   "cell_type": "code",
   "execution_count": 179,
   "metadata": {
    "scrolled": true
   },
   "outputs": [],
   "source": [
    "def AB_analisys(id_group_test, id_group_control):\n",
    "\n",
    "# Функция визуализации\n",
    "    show_hist(id_group_test['sum_pay'], id_group_control['sum_pay']) #контроль - корал\n",
    "    show_hist(id_group_test['months_reg'], id_group_control['months_reg'])\n",
    "    \n",
    "# Функция для поиска среднего, дисперсии и стандартного отклонения.    \n",
    "    sum_pay_test(id_group_test, id_group_control)\n",
    "\n",
    "# Mann_whitney_func\n",
    "    print('----------------')\n",
    "    print('Манн-Уитни по суммам, на которые была совершена покупка в Тест- и Контроль-группах')    \n",
    "    mann_whitney_func(id_group_test['sum_pay'], id_group_control['sum_pay'])\n",
    "\n",
    "# T-test (для сравнения средних)    \n",
    "    ttest(id_group_control['sum_pay'], id_group_test['sum_pay'])\n",
    "    \n",
    "#test_calc    \n",
    "    test_calc(id_group_test['sum_pay'], id_group_control['sum_pay'])"
   ]
  },
  {
   "cell_type": "code",
   "execution_count": 180,
   "metadata": {},
   "outputs": [
    {
     "data": {
      "image/png": "[encoded data removed]",
      "text/plain": [
       "<Figure size 432x288 with 1 Axes>"
      ]
     },
     "metadata": {
      "needs_background": "light"
     },
     "output_type": "display_data"
    },
    {
     "data": {
      "image/png": "[encoded data removed]",
      "text/plain": [
       "<Figure size 432x288 with 1 Axes>"
      ]
     },
     "metadata": {
      "needs_background": "light"
     },
     "output_type": "display_data"
    },
    {
     "name": "stdout",
     "output_type": "stream",
     "text": [
      "Средняя сумма покупки в Тест-группе: 3497.8294684266857\n",
      "Средняя сумма покупки в Контроль-группе: 3339.535408560311\n",
      " \n",
      "Средняя длительность регистрации клиента в программе лояльности в Тест-группе: 4.7112022832679274\n",
      "Средняя длительность регистрации клиента в программе лояльности в Контроль-группе: 4.651167315175098\n",
      "\n",
      "---------------------------\n",
      "Дисперсия суммы покупки в Тест-группе: 6617248.620333984\n",
      "Дисперсия суммы покупки в Контроль-группе: 5253689.135348443\n",
      " \n",
      "Дисперсия длительности регистрации клиента в программе лояльности в Тест-группе: 10.335671096630156\n",
      "Дисперсия длительности регистрации клиента в программе лояльности в Контроль-группе: 9.699852694319596\n",
      "\n",
      "---------------------------\n",
      "Стандартное отклонение суммы покупки в Тест-группе: 2572.4013334497367\n",
      "Стандартное отклонение суммы покупки в Контроль-группе: 2292.0927414370567\n",
      " \n",
      "Стандартное отклонение регистрации клиента в программе лояльности в Тест-группе: 3.214913855242494\n",
      "Стандартное отклонение регистрации клиента в программе лояльности в Контроль-группе: 3.114458651887932\n",
      "----------------\n",
      "Манн-Уитни по суммам, на которые была совершена покупка в Тест- и Контроль-группах\n",
      "Распределения равны\n",
      " \n",
      "----------------\n",
      "T-test\n",
      "Средние распределений не равны\n",
      "-3.356159831664094 0.0007930687003032978\n",
      " \n",
      "----------------\n",
      "test_calc\n",
      "Нулевая гипотеза принимается\n"
     ]
    },
    {
     "name": "stderr",
     "output_type": "stream",
     "text": [
      "C:\\Users\\snyat\\AppData\\Local\\Temp/ipykernel_14784/1530103330.py:5: FutureWarning: Dropping of nuisance columns in DataFrame reductions (with 'numeric_only=None') is deprecated; in a future version this will raise TypeError.  Select only valid columns before calling the reduction.\n",
      "  mean_sum_pay_test = id_group_test.mean()\n",
      "C:\\Users\\snyat\\AppData\\Local\\Temp/ipykernel_14784/1530103330.py:6: FutureWarning: Dropping of nuisance columns in DataFrame reductions (with 'numeric_only=None') is deprecated; in a future version this will raise TypeError.  Select only valid columns before calling the reduction.\n",
      "  var_sum_pay_test = id_group_test.var()\n",
      "C:\\Users\\snyat\\AppData\\Local\\Temp/ipykernel_14784/1530103330.py:7: FutureWarning: Dropping of nuisance columns in DataFrame reductions (with 'numeric_only=None') is deprecated; in a future version this will raise TypeError.  Select only valid columns before calling the reduction.\n",
      "  std_sum_pay_test = id_group_test.std()\n",
      "C:\\Users\\snyat\\AppData\\Local\\Temp/ipykernel_14784/1530103330.py:10: FutureWarning: Dropping of nuisance columns in DataFrame reductions (with 'numeric_only=None') is deprecated; in a future version this will raise TypeError.  Select only valid columns before calling the reduction.\n",
      "  mean_sum_pay_control = id_group_control.mean()\n",
      "C:\\Users\\snyat\\AppData\\Local\\Temp/ipykernel_14784/1530103330.py:11: FutureWarning: Dropping of nuisance columns in DataFrame reductions (with 'numeric_only=None') is deprecated; in a future version this will raise TypeError.  Select only valid columns before calling the reduction.\n",
      "  var_sum_pay_control = id_group_control.var()\n",
      "C:\\Users\\snyat\\AppData\\Local\\Temp/ipykernel_14784/1530103330.py:12: FutureWarning: Dropping of nuisance columns in DataFrame reductions (with 'numeric_only=None') is deprecated; in a future version this will raise TypeError.  Select only valid columns before calling the reduction.\n",
      "  std_sum_pay_control = id_group_control.std()\n"
     ]
    }
   ],
   "source": [
    "AB_analisys(id_group_test, id_group_control)"
   ]
  },
  {
   "cell_type": "markdown",
   "metadata": {},
   "source": [
    "1.5. Сделайте выводы.\n",
    "\n",
    "На основании статистического анализа, можно сделать выводы, что внедрение новой системы лояльности целесообразно и принесет дополнительный доход."
   ]
  },
  {
   "cell_type": "markdown",
   "metadata": {},
   "source": [
    "# 2. Анализ по торговым точкам\n",
    "        \n",
    "2.1. Создайте цикл, пробегающий по всем уникальным торговым точкам.\n",
    "        \n",
    "2.2. Для каждой торговой точки проведите визуализацию с помощью гистограммы для сравнения результатов в А и Б группе (используйте функцию ***show_hist).***\n",
    "        \n",
    "2.3. Для каждой торговой точки посмотрите на результаты параметрического и непараметрического теста (используйте функции ***mann_whitney_func*** и ***test_calc***).\n",
    "        \n",
    "2.4. Для каждой торговой точки сделайте выводы.\n",
    "        \n",
    "2.5. Убедитесь, что в торговых точках, по которым вы делаете выводы, достаточное количество наблюдений.\n",
    "        \n",
    "**Важно! При анализе воспользуйтесь функциями, которые вы создали в домашних заданиях в курсе статистики**"
   ]
  },
  {
   "cell_type": "code",
   "execution_count": 182,
   "metadata": {},
   "outputs": [
    {
     "data": {
      "text/plain": [
       "id_point\n",
       "1178.0    2403\n",
       "1179.0    1697\n",
       "1182.0    1012\n",
       "1186.0      23\n",
       "1188.0       5\n",
       "Name: id_client, dtype: int64"
      ]
     },
     "execution_count": 182,
     "metadata": {},
     "output_type": "execute_result"
    }
   ],
   "source": [
    "id_group_control.groupby('id_point')['id_client'].count()"
   ]
  },
  {
   "cell_type": "code",
   "execution_count": 183,
   "metadata": {},
   "outputs": [
    {
     "data": {
      "text/plain": [
       "id_point\n",
       "1178.0    2406\n",
       "1179.0    1745\n",
       "1182.0     935\n",
       "1186.0      40\n",
       "1188.0       4\n",
       "1199.0     476\n",
       "Name: id_client, dtype: int64"
      ]
     },
     "execution_count": 183,
     "metadata": {},
     "output_type": "execute_result"
    }
   ],
   "source": [
    "id_group_test.groupby('id_point')['id_client'].count()"
   ]
  },
  {
   "cell_type": "code",
   "execution_count": 184,
   "metadata": {},
   "outputs": [],
   "source": [
    "# Фильтр по Торговым точкам\n",
    "id_point_1178_control = id_group_control.loc[id_group_control['id_point'] == 1178.0]\n",
    "id_point_1178_test = id_group_test.loc[id_group_test['id_point'] == 1178.0]\n",
    "\n",
    "id_point_1179_control = id_group_control.loc[id_group_control['id_point'] == 1179.0]\n",
    "id_point_1179_test = id_group_test.loc[id_group_test['id_point'] == 1179.0]\n",
    "\n",
    "id_point_1182_control = id_group_control.loc[id_group_control['id_point'] == 1182.0] \n",
    "id_point_1182_test = id_group_test.loc[id_group_test['id_point'] == 1182.0]\n",
    "\n",
    "# В выборке недостаточное количество наблюдений.\n",
    "# id_point_1186_control = id_group_control.loc[id_group_control['id_point'] == 1186.0] \n",
    "# id_point_1186_test = id_group_test.loc[id_group_test['id_point'] == 1186.0]\n",
    "\n",
    "# В выборке недостаточное количество наблюдений.\n",
    "# id_point_1188_control = id_group_control.loc[id_group_control['id_point'] == 1188.0] \n",
    "# id_point_1188_test = id_group_test.loc[id_group_test['id_point'] == 1188.0]\n",
    "\n",
    "# Контрольные данные отсутствуют, в даьнейшем анализе не учитывается.\n",
    "# id_point_1199_control = id_group_control.loc[id_group_control['id_point'] == 1199.0] \n",
    "# id_point_1199_test = id_group_test.loc[id_group_test['id_point'] == 1199.0]"
   ]
  },
  {
   "cell_type": "code",
   "execution_count": 185,
   "metadata": {},
   "outputs": [
    {
     "data": {
      "image/png": "[encoded data removed]",
      "text/plain": [
       "<Figure size 432x288 with 1 Axes>"
      ]
     },
     "metadata": {
      "needs_background": "light"
     },
     "output_type": "display_data"
    },
    {
     "data": {
      "image/png": "[encoded data removed]",
      "text/plain": [
       "<Figure size 432x288 with 1 Axes>"
      ]
     },
     "metadata": {
      "needs_background": "light"
     },
     "output_type": "display_data"
    },
    {
     "name": "stdout",
     "output_type": "stream",
     "text": [
      "Средняя сумма покупки в Тест-группе: 2936.386949293433\n",
      "Средняя сумма покупки в Контроль-группе: 3036.214731585518\n",
      " \n",
      "Средняя длительность регистрации клиента в программе лояльности в Тест-группе: 4.330423940149626\n",
      "Средняя длительность регистрации клиента в программе лояльности в Контроль-группе: 4.407407407407407\n",
      "\n",
      "---------------------------\n",
      "Дисперсия суммы покупки в Тест-группе: 6589788.719646659\n",
      "Дисперсия суммы покупки в Контроль-группе: 3592781.4576180275\n",
      " \n",
      "Дисперсия длительности регистрации клиента в программе лояльности в Тест-группе: 11.242541774461673\n",
      "Дисперсия длительности регистрации клиента в программе лояльности в Контроль-группе: 8.617880161593943\n",
      "\n",
      "---------------------------\n",
      "Стандартное отклонение суммы покупки в Тест-группе: 2567.058378698595\n",
      "Стандартное отклонение суммы покупки в Контроль-группе: 1895.4633886250685\n",
      " \n",
      "Стандартное отклонение регистрации клиента в программе лояльности в Тест-группе: 3.352989975299907\n",
      "Стандартное отклонение регистрации клиента в программе лояльности в Контроль-группе: 2.935622619069751\n",
      "----------------\n",
      "Манн-Уитни по суммам, на которые была совершена покупка в Тест- и Контроль-группах\n",
      "Распределения не равны\n",
      " \n",
      "----------------\n",
      "T-test\n",
      "Средние распределений равны\n",
      "1.5338932633911708 0.1251217226713009\n",
      " \n",
      "----------------\n",
      "test_calc\n",
      "Нулевая гипотеза не принимается\n"
     ]
    },
    {
     "name": "stderr",
     "output_type": "stream",
     "text": [
      "C:\\Users\\snyat\\AppData\\Local\\Temp/ipykernel_14784/1530103330.py:5: FutureWarning: Dropping of nuisance columns in DataFrame reductions (with 'numeric_only=None') is deprecated; in a future version this will raise TypeError.  Select only valid columns before calling the reduction.\n",
      "  mean_sum_pay_test = id_group_test.mean()\n",
      "C:\\Users\\snyat\\AppData\\Local\\Temp/ipykernel_14784/1530103330.py:6: FutureWarning: Dropping of nuisance columns in DataFrame reductions (with 'numeric_only=None') is deprecated; in a future version this will raise TypeError.  Select only valid columns before calling the reduction.\n",
      "  var_sum_pay_test = id_group_test.var()\n",
      "C:\\Users\\snyat\\AppData\\Local\\Temp/ipykernel_14784/1530103330.py:7: FutureWarning: Dropping of nuisance columns in DataFrame reductions (with 'numeric_only=None') is deprecated; in a future version this will raise TypeError.  Select only valid columns before calling the reduction.\n",
      "  std_sum_pay_test = id_group_test.std()\n",
      "C:\\Users\\snyat\\AppData\\Local\\Temp/ipykernel_14784/1530103330.py:10: FutureWarning: Dropping of nuisance columns in DataFrame reductions (with 'numeric_only=None') is deprecated; in a future version this will raise TypeError.  Select only valid columns before calling the reduction.\n",
      "  mean_sum_pay_control = id_group_control.mean()\n",
      "C:\\Users\\snyat\\AppData\\Local\\Temp/ipykernel_14784/1530103330.py:11: FutureWarning: Dropping of nuisance columns in DataFrame reductions (with 'numeric_only=None') is deprecated; in a future version this will raise TypeError.  Select only valid columns before calling the reduction.\n",
      "  var_sum_pay_control = id_group_control.var()\n",
      "C:\\Users\\snyat\\AppData\\Local\\Temp/ipykernel_14784/1530103330.py:12: FutureWarning: Dropping of nuisance columns in DataFrame reductions (with 'numeric_only=None') is deprecated; in a future version this will raise TypeError.  Select only valid columns before calling the reduction.\n",
      "  std_sum_pay_control = id_group_control.std()\n"
     ]
    }
   ],
   "source": [
    "# АВ тест по торговой точке 1178\n",
    "AB_analisys(id_point_1178_test, id_point_1178_control)"
   ]
  },
  {
   "cell_type": "code",
   "execution_count": 186,
   "metadata": {},
   "outputs": [
    {
     "data": {
      "image/png": "[encoded data removed]",
      "text/plain": [
       "<Figure size 432x288 with 1 Axes>"
      ]
     },
     "metadata": {
      "needs_background": "light"
     },
     "output_type": "display_data"
    },
    {
     "data": {
      "image/png": "[encoded data removed]",
      "text/plain": [
       "<Figure size 432x288 with 1 Axes>"
      ]
     },
     "metadata": {
      "needs_background": "light"
     },
     "output_type": "display_data"
    },
    {
     "name": "stdout",
     "output_type": "stream",
     "text": [
      "Средняя сумма покупки в Тест-группе: 3421.826934097421\n",
      "Средняя сумма покупки в Контроль-группе: 3331.3105480259283\n",
      " \n",
      "Средняя длительность регистрации клиента в программе лояльности в Тест-группе: 4.587392550143266\n",
      "Средняя длительность регистрации клиента в программе лояльности в Контроль-группе: 4.6599882144961695\n",
      "\n",
      "---------------------------\n",
      "Дисперсия суммы покупки в Тест-группе: 5680420.067508074\n",
      "Дисперсия суммы покупки в Контроль-группе: 5504638.724847396\n",
      " \n",
      "Дисперсия длительности регистрации клиента в программе лояльности в Тест-группе: 9.585391419783807\n",
      "Дисперсия длительности регистрации клиента в программе лояльности в Контроль-группе: 10.136092688540314\n",
      "\n",
      "---------------------------\n",
      "Стандартное отклонение суммы покупки в Тест-группе: 2383.3631841387655\n",
      "Стандартное отклонение суммы покупки в Контроль-группе: 2346.1966509326103\n",
      " \n",
      "Стандартное отклонение регистрации клиента в программе лояльности в Тест-группе: 3.096028329938828\n",
      "Стандартное отклонение регистрации клиента в программе лояльности в Контроль-группе: 3.1837230860331296\n",
      "----------------\n",
      "Манн-Уитни по суммам, на которые была совершена покупка в Тест- и Контроль-группах\n",
      "Распределения равны\n",
      " \n",
      "----------------\n",
      "T-test\n",
      "Средние распределений равны\n",
      "-1.1225576641441302 0.2617037465196552\n",
      " \n",
      "----------------\n",
      "test_calc\n",
      "Нулевая гипотеза не принимается\n"
     ]
    },
    {
     "name": "stderr",
     "output_type": "stream",
     "text": [
      "C:\\Users\\snyat\\AppData\\Local\\Temp/ipykernel_14784/1530103330.py:5: FutureWarning: Dropping of nuisance columns in DataFrame reductions (with 'numeric_only=None') is deprecated; in a future version this will raise TypeError.  Select only valid columns before calling the reduction.\n",
      "  mean_sum_pay_test = id_group_test.mean()\n",
      "C:\\Users\\snyat\\AppData\\Local\\Temp/ipykernel_14784/1530103330.py:6: FutureWarning: Dropping of nuisance columns in DataFrame reductions (with 'numeric_only=None') is deprecated; in a future version this will raise TypeError.  Select only valid columns before calling the reduction.\n",
      "  var_sum_pay_test = id_group_test.var()\n",
      "C:\\Users\\snyat\\AppData\\Local\\Temp/ipykernel_14784/1530103330.py:7: FutureWarning: Dropping of nuisance columns in DataFrame reductions (with 'numeric_only=None') is deprecated; in a future version this will raise TypeError.  Select only valid columns before calling the reduction.\n",
      "  std_sum_pay_test = id_group_test.std()\n",
      "C:\\Users\\snyat\\AppData\\Local\\Temp/ipykernel_14784/1530103330.py:10: FutureWarning: Dropping of nuisance columns in DataFrame reductions (with 'numeric_only=None') is deprecated; in a future version this will raise TypeError.  Select only valid columns before calling the reduction.\n",
      "  mean_sum_pay_control = id_group_control.mean()\n",
      "C:\\Users\\snyat\\AppData\\Local\\Temp/ipykernel_14784/1530103330.py:11: FutureWarning: Dropping of nuisance columns in DataFrame reductions (with 'numeric_only=None') is deprecated; in a future version this will raise TypeError.  Select only valid columns before calling the reduction.\n",
      "  var_sum_pay_control = id_group_control.var()\n",
      "C:\\Users\\snyat\\AppData\\Local\\Temp/ipykernel_14784/1530103330.py:12: FutureWarning: Dropping of nuisance columns in DataFrame reductions (with 'numeric_only=None') is deprecated; in a future version this will raise TypeError.  Select only valid columns before calling the reduction.\n",
      "  std_sum_pay_control = id_group_control.std()\n"
     ]
    }
   ],
   "source": [
    "# АВ тест по торговой точке 1179\n",
    "AB_analisys(id_point_1179_test, id_point_1179_control)"
   ]
  },
  {
   "cell_type": "code",
   "execution_count": 187,
   "metadata": {},
   "outputs": [
    {
     "data": {
      "image/png": "[encoded data removed]",
      "text/plain": [
       "<Figure size 432x288 with 1 Axes>"
      ]
     },
     "metadata": {
      "needs_background": "light"
     },
     "output_type": "display_data"
    },
    {
     "data": {
      "image/png": "[encoded data removed]",
      "text/plain": [
       "<Figure size 432x288 with 1 Axes>"
      ]
     },
     "metadata": {
      "needs_background": "light"
     },
     "output_type": "display_data"
    },
    {
     "name": "stdout",
     "output_type": "stream",
     "text": [
      "Средняя сумма покупки в Тест-группе: 4862.9508021390375\n",
      "Средняя сумма покупки в Контроль-группе: 4036.9426877470355\n",
      " \n",
      "Средняя длительность регистрации клиента в программе лояльности в Тест-группе: 5.754010695187166\n",
      "Средняя длительность регистрации клиента в программе лояльности в Контроль-группе: 5.16699604743083\n",
      "\n",
      "---------------------------\n",
      "Дисперсия суммы покупки в Тест-группе: 7394082.725628376\n",
      "Дисперсия суммы покупки в Контроль-группе: 8003779.804822831\n",
      " \n",
      "Дисперсия длительности регистрации клиента в программе лояльности в Тест-группе: 9.33128743029237\n",
      "Дисперсия длительности регистрации клиента в программе лояльности в Контроль-группе: 11.021540720063504\n",
      "\n",
      "---------------------------\n",
      "Стандартное отклонение суммы покупки в Тест-группе: 2719.2062675766942\n",
      "Стандартное отклонение суммы покупки в Контроль-группе: 2829.095227245423\n",
      " \n",
      "Стандартное отклонение регистрации клиента в программе лояльности в Тест-группе: 3.054715605468432\n",
      "Стандартное отклонение регистрации клиента в программе лояльности в Контроль-группе: 3.319870587848795\n",
      "----------------\n",
      "Манн-Уитни по суммам, на которые была совершена покупка в Тест- и Контроль-группах\n",
      "Распределения равны\n",
      " \n",
      "----------------\n",
      "T-test\n",
      "Средние распределений не равны\n",
      "-6.557556680839402 6.988545437582617e-11\n",
      " \n",
      "----------------\n",
      "test_calc\n",
      "Нулевая гипотеза принимается\n"
     ]
    },
    {
     "name": "stderr",
     "output_type": "stream",
     "text": [
      "C:\\Users\\snyat\\AppData\\Local\\Temp/ipykernel_14784/1530103330.py:5: FutureWarning: Dropping of nuisance columns in DataFrame reductions (with 'numeric_only=None') is deprecated; in a future version this will raise TypeError.  Select only valid columns before calling the reduction.\n",
      "  mean_sum_pay_test = id_group_test.mean()\n",
      "C:\\Users\\snyat\\AppData\\Local\\Temp/ipykernel_14784/1530103330.py:6: FutureWarning: Dropping of nuisance columns in DataFrame reductions (with 'numeric_only=None') is deprecated; in a future version this will raise TypeError.  Select only valid columns before calling the reduction.\n",
      "  var_sum_pay_test = id_group_test.var()\n",
      "C:\\Users\\snyat\\AppData\\Local\\Temp/ipykernel_14784/1530103330.py:7: FutureWarning: Dropping of nuisance columns in DataFrame reductions (with 'numeric_only=None') is deprecated; in a future version this will raise TypeError.  Select only valid columns before calling the reduction.\n",
      "  std_sum_pay_test = id_group_test.std()\n",
      "C:\\Users\\snyat\\AppData\\Local\\Temp/ipykernel_14784/1530103330.py:10: FutureWarning: Dropping of nuisance columns in DataFrame reductions (with 'numeric_only=None') is deprecated; in a future version this will raise TypeError.  Select only valid columns before calling the reduction.\n",
      "  mean_sum_pay_control = id_group_control.mean()\n",
      "C:\\Users\\snyat\\AppData\\Local\\Temp/ipykernel_14784/1530103330.py:11: FutureWarning: Dropping of nuisance columns in DataFrame reductions (with 'numeric_only=None') is deprecated; in a future version this will raise TypeError.  Select only valid columns before calling the reduction.\n",
      "  var_sum_pay_control = id_group_control.var()\n",
      "C:\\Users\\snyat\\AppData\\Local\\Temp/ipykernel_14784/1530103330.py:12: FutureWarning: Dropping of nuisance columns in DataFrame reductions (with 'numeric_only=None') is deprecated; in a future version this will raise TypeError.  Select only valid columns before calling the reduction.\n",
      "  std_sum_pay_control = id_group_control.std()\n"
     ]
    }
   ],
   "source": [
    "# АВ тест по торговой точке 1182\n",
    "AB_analisys(id_point_1182_test, id_point_1182_control)"
   ]
  },
  {
   "cell_type": "markdown",
   "metadata": {},
   "source": [
    "Выводы:\n",
    "\n",
    "На основании проведенного анализа, гипотеза принимаетмя только на торговой точке 1182. Следовательно, на торговой точке 1182 введение новой системы лояльности целесообразно."
   ]
  },
  {
   "cell_type": "markdown",
   "metadata": {},
   "source": [
    "# 3. Сегментация по длительности регистрации\n",
    "\n",
    "3.1. Рассмотрите два вида корреляции между выплаченной суммой и длительностью регистрации.\n",
    "        \n",
    "3.2. Как полученные результаты повлияют на ваши бизнес-рекомендации?\n",
    "        \n",
    "**Важно! При анализе воспользуйтесь функциями, которые вы создали в домашних заданиях в курсе статистики**"
   ]
  },
  {
   "cell_type": "code",
   "execution_count": 192,
   "metadata": {},
   "outputs": [],
   "source": [
    "# df_clean\n",
    "# id_group_test\n",
    "# id_group_control"
   ]
  },
  {
   "cell_type": "code",
   "execution_count": 189,
   "metadata": {},
   "outputs": [
    {
     "name": "stdout",
     "output_type": "stream",
     "text": [
      " \n",
      "Корреляция Пирсона:\n",
      "Корреляция средняя\n",
      " \n",
      "Корреляция Спирмена:\n",
      "Корреляция средняя\n"
     ]
    }
   ],
   "source": [
    "# Корреляция Пирсона и Спирмена\n",
    "\n",
    "def proxi_ranges(r1, r2, alpha=0.05):\n",
    "    var_r1 = np.var(r1)\n",
    "    var_r2 = np.var(r2)    \n",
    "    cov_r1 = np.cov(r1)\n",
    "    cov_r2 = np.cov(r2)\n",
    "    corrcoef_array = np.corrcoef(r1, r2)\n",
    "    corrcoef = corrcoef_array[0][1]\n",
    "    spearmanr, pvalue = stats.spearmanr(r1, r2)\n",
    "\n",
    "#     print(var_r1)\n",
    "#     print(var_r2)\n",
    "#     print(cov_r1)\n",
    "#     print(cov_r2)\n",
    "#     print(corrcoef)  \n",
    "#     print(spearmanr)\n",
    "#     print(pvalue)\n",
    "    print(' ')\n",
    "    print('Корреляция Пирсона:')\n",
    "    if (pvalue > alpha):\n",
    "        print('Корреляция равна нулю')\n",
    "    else:\n",
    "        if ((corrcoef) < 0):\n",
    "            print('Кореляция отрицательная')\n",
    "        if (abs(corrcoef) < 0.3):\n",
    "            print ('Корреляция слабая')           \n",
    "        elif (abs(corrcoef) < 0.7):\n",
    "            print ('Корреляция средняя')\n",
    "        elif (abs(corrcoef) > 0.7):        \n",
    "            print ('Корреляция сильная')\n",
    "            \n",
    "    print(' ')     \n",
    "    print('Корреляция Спирмена:')\n",
    "    if (pvalue > alpha):\n",
    "        print('Корреляция равна нулю')\n",
    "    else:\n",
    "        if ((spearmanr) < 0):\n",
    "            print('Кореляция отрицательная')\n",
    "        if (abs(spearmanr) < 0.3):\n",
    "            print ('Корреляция слабая')\n",
    "        elif (abs(spearmanr) < 0.7):\n",
    "            print ('Корреляция средняя')\n",
    "        elif (abs(spearmanr) > 0.7):        \n",
    "            print ('Корреляция сильная')\n",
    "\n",
    "proxi_ranges(df_clean['sum_pay'], df_clean['months_reg'])\n",
    "# print('----------------')  \n",
    "# print('Тест-группа.')\n",
    "# proxi_ranges(id_group_test['sum_pay'], id_group_test['months_reg'])\n",
    "# print('----------------')\n",
    "# print('Контроль-группа.')\n",
    "# proxi_ranges(id_group_control['sum_pay'], id_group_control['months_reg'])"
   ]
  },
  {
   "cell_type": "markdown",
   "metadata": {},
   "source": [
    "Зависимость между суммой выплат и длительностью регистрации прямопропорциональна. Корреляция средняя. На основе этого, можно сделать вывод, что увеличение выплаченной суммы приведет к удержанию клиентов."
   ]
  },
  {
   "cell_type": "markdown",
   "metadata": {
    "id": "d8ReOsxd2a4d"
   },
   "source": [
    "<!-- # ![image.png](attachment:image.png)  -->"
   ]
  },
  {
   "cell_type": "markdown",
   "metadata": {},
   "source": [
    "<!-- ![og_og_1476731219265114373.jpg](attachment:og_og_1476731219265114373.jpg) -->"
   ]
  }
 ],
 "metadata": {
  "colab": {
   "name": "Skills_Python_3.1_homework.ipynb",
   "provenance": []
  },
  "kernelspec": {
   "display_name": "Python 3 (ipykernel)",
   "language": "python",
   "name": "python3"
  },
  "language_info": {
   "codemirror_mode": {
    "name": "ipython",
    "version": 3
   },
   "file_extension": ".py",
   "mimetype": "text/x-python",
   "name": "python",
   "nbconvert_exporter": "python",
   "pygments_lexer": "ipython3",
   "version": "3.9.7"
  }
 },
 "nbformat": 4,
 "nbformat_minor": 1
}
